{
  "nbformat": 4,
  "nbformat_minor": 0,
  "metadata": {
    "colab": {
      "name": "Python_11_14_6_12_2021.ipynb",
      "provenance": [],
      "authorship_tag": "ABX9TyMZsHetPWNne+IKiOV1/22A",
      "include_colab_link": true
    },
    "kernelspec": {
      "name": "python3",
      "display_name": "Python 3"
    },
    "language_info": {
      "name": "python"
    }
  },
  "cells": [
    {
      "cell_type": "markdown",
      "metadata": {
        "id": "view-in-github",
        "colab_type": "text"
      },
      "source": [
        "<a href=\"https://colab.research.google.com/github/valenja9/Python_11_14_2021/blob/main/Python_11_14_6_12_2021.ipynb\" target=\"_parent\"><img src=\"https://colab.research.google.com/assets/colab-badge.svg\" alt=\"Open In Colab\"/></a>"
      ]
    },
    {
      "cell_type": "code",
      "metadata": {
        "colab": {
          "base_uri": "https://localhost:8080/"
        },
        "id": "dI8iC5wRF4mQ",
        "outputId": "d318d50c-dcc4-4723-d422-0de54fb2f7ba"
      },
      "source": [
        "import socket    \n",
        "hostname = socket.gethostname()    \n",
        "IPAddr = socket.gethostbyname(hostname)    \n",
        "print(\"Your Computer Name is:\" + hostname)    \n",
        "print(\"Your Computer IP Address is:\" + IPAddr) \n",
        "#How to get the IP address of a client using socket"
      ],
      "execution_count": 3,
      "outputs": [
        {
          "output_type": "stream",
          "name": "stdout",
          "text": [
            "Your Computer Name is:4fd09a68ad3c\n",
            "Your Computer IP Address is:172.28.0.2\n"
          ]
        }
      ]
    },
    {
      "cell_type": "code",
      "metadata": {
        "colab": {
          "base_uri": "https://localhost:8080/"
        },
        "id": "huyI_4A0M8df",
        "outputId": "9c7dd888-71a9-4071-845f-f8519e066cbd"
      },
      "source": [
        "int(\"4\") + 5"
      ],
      "execution_count": 6,
      "outputs": [
        {
          "output_type": "execute_result",
          "data": {
            "text/plain": [
              "9"
            ]
          },
          "metadata": {},
          "execution_count": 6
        }
      ]
    },
    {
      "cell_type": "code",
      "metadata": {
        "id": "tZGivvzkCkQ7"
      },
      "source": [
        "import csv\n",
        "\n",
        "hlavicka = [\"jmeno\",\"prijmeni\",\"vek\"]\n",
        "\n",
        "data = [[\"Jakub\", \"Novy\", 56],\n",
        "        [\"Kamil\", \"Rudy\", 54]]\n",
        "\n",
        "with open(\"file.csv\", mode=\"w\") as file:\n",
        "  writer_csv = csv.writer(file)\n",
        "  writer_csv.writerow(hlavicka)\n",
        "\n",
        "with open(\"file.csv\", mode=\"a\") as file:\n",
        "  writer_csv = csv.writer(file)\n",
        "  writer_csv.writerow([\"Kamil\", \"Rudy\", 54])"
      ],
      "execution_count": null,
      "outputs": []
    },
    {
      "cell_type": "code",
      "metadata": {
        "id": "LV-NslhvQynd"
      },
      "source": [
        "with open(\"file.csv\", mode=\"r\") as file:\n",
        "  data = csv.reader(file)\n",
        "  "
      ],
      "execution_count": null,
      "outputs": []
    },
    {
      "cell_type": "code",
      "metadata": {
        "id": "3iV4pTlcIf3C"
      },
      "source": [
        "def f():\n",
        "  return \"ahoj\""
      ],
      "execution_count": 4,
      "outputs": []
    },
    {
      "cell_type": "code",
      "metadata": {
        "id": "ZQaWHBYqCHbx"
      },
      "source": [
        "import random\n",
        "\n",
        "def generovani_databaze():\n",
        "    while True:\n",
        "        pokracovani = input(\"pro exit napis exit.\").lower()\n",
        "        if pokracovani == \"exit\":\n",
        "            break\n",
        "        else:\n",
        "            random_cislo = random.randint(0,1000)\n",
        "            jmeno = input(\"Zadej jmeno: \")\n",
        "            prijmeni = input(\"Zadej prijmeni \")\n",
        "            sablona = f\"Ahoj {jmeno} {prijmeni}, pridelil jsem ti v nasem systemu cislo {random_cislo}.\"\n",
        "            print(sablona, file=open(\"sablona_cisel.txt\", mode=\"a\"))\n",
        "\n",
        "\n",
        "generovani_databaze()\n",
        "print(\"Kod konci!\")"
      ],
      "execution_count": null,
      "outputs": []
    }
  ]
}
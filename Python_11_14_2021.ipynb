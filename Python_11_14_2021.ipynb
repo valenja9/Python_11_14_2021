{
  "nbformat": 4,
  "nbformat_minor": 0,
  "metadata": {
    "colab": {
      "name": "Python_11_14_2021.ipynb",
      "provenance": [],
      "authorship_tag": "ABX9TyPykzLcuCgin+GUZcFThA4X",
      "include_colab_link": true
    },
    "kernelspec": {
      "name": "python3",
      "display_name": "Python 3"
    },
    "language_info": {
      "name": "python"
    }
  },
  "cells": [
    {
      "cell_type": "markdown",
      "metadata": {
        "id": "view-in-github",
        "colab_type": "text"
      },
      "source": [
        "<a href=\"https://colab.research.google.com/github/valenja9/Python_11_14_2021/blob/main/Python_11_14_2021.ipynb\" target=\"_parent\"><img src=\"https://colab.research.google.com/assets/colab-badge.svg\" alt=\"Open In Colab\"/></a>"
      ]
    },
    {
      "cell_type": "code",
      "metadata": {
        "id": "TQwFRTjlrUBk"
      },
      "source": [
        "MORSE_CODE_DICT = { 'A':'.-', 'B':'-...', \n",
        "                    'C':'-.-.', 'D':'-..', 'E':'.', \n",
        "                    'F':'..-.', 'G':'--.', 'H':'....', \n",
        "                    'I':'..', 'J':'.---', 'K':'-.-', \n",
        "                    'L':'.-..', 'M':'--', 'N':'-.', \n",
        "                    'O':'---', 'P':'.--.', 'Q':'--.-', \n",
        "                    'R':'.-.', 'S':'...', 'T':'-', \n",
        "                    'U':'..-', 'V':'...-', 'W':'.--', \n",
        "                    'X':'-..-', 'Y':'-.--', 'Z':'--..', \n",
        "                    '1':'.----', '2':'..---', '3':'...--', \n",
        "                    '4':'....-', '5':'.....', '6':'-....', \n",
        "                    '7':'--...', '8':'---..', '9':'----.', \n",
        "                    '0':'-----', ', ':'--..--', '.':'.-.-.-', \n",
        "                    '?':'..--..', '/':'-..-.', '-':'-....-', \n",
        "                    '(':'-.--.', ')':'-.--.-'}"
      ],
      "execution_count": 6,
      "outputs": []
    },
    {
      "cell_type": "code",
      "metadata": {
        "id": "rh0M2FfNrf1n"
      },
      "source": [
        "          #klic        :   hodnota  \n",
        "slovnik = {\"Watterfall\": \"vodopad\", \n",
        "           \"Butterfly\": \"motyl\"}  #altgr + b, {}"
      ],
      "execution_count": 2,
      "outputs": []
    },
    {
      "cell_type": "code",
      "metadata": {
        "colab": {
          "base_uri": "https://localhost:8080/",
          "height": 35
        },
        "id": "95dZZeItuUNk",
        "outputId": "12893428-f1a9-454c-f765-6586b106715c"
      },
      "source": [
        "slovnik[\"Butterfly\"]"
      ],
      "execution_count": 3,
      "outputs": [
        {
          "output_type": "execute_result",
          "data": {
            "application/vnd.google.colaboratory.intrinsic+json": {
              "type": "string"
            },
            "text/plain": [
              "'motyl'"
            ]
          },
          "metadata": {},
          "execution_count": 3
        }
      ]
    },
    {
      "cell_type": "code",
      "metadata": {
        "colab": {
          "base_uri": "https://localhost:8080/",
          "height": 35
        },
        "id": "vXtkbD3GunE8",
        "outputId": "fc8cccba-c463-469e-8e64-6d2010edadcd"
      },
      "source": [
        "slovnik[\"Watterfall\"]"
      ],
      "execution_count": 4,
      "outputs": [
        {
          "output_type": "execute_result",
          "data": {
            "application/vnd.google.colaboratory.intrinsic+json": {
              "type": "string"
            },
            "text/plain": [
              "'vodopad'"
            ]
          },
          "metadata": {},
          "execution_count": 4
        }
      ]
    },
    {
      "cell_type": "code",
      "metadata": {
        "colab": {
          "base_uri": "https://localhost:8080/",
          "height": 35
        },
        "id": "RB6pIMZ7urin",
        "outputId": "1fbc3536-bb6a-4e28-8e5e-7af50bbf8138"
      },
      "source": [
        "list_slov = [\"vodopad\", \"motyl\"]\n",
        "list_slov[1]"
      ],
      "execution_count": 5,
      "outputs": [
        {
          "output_type": "execute_result",
          "data": {
            "application/vnd.google.colaboratory.intrinsic+json": {
              "type": "string"
            },
            "text/plain": [
              "'motyl'"
            ]
          },
          "metadata": {},
          "execution_count": 5
        }
      ]
    },
    {
      "cell_type": "code",
      "metadata": {
        "id": "rgogX0dwvB0v"
      },
      "source": [
        "#Vytvorte vlastni slovnik s deseti dvojicemi.  {klic: hodota, ....}\n",
        "\n",
        "\n",
        "\n"
      ],
      "execution_count": null,
      "outputs": []
    },
    {
      "cell_type": "code",
      "metadata": {
        "id": "qTnJodKrxL7r"
      },
      "source": [
        "slovnik = {\"House\" : \"dum\" , \"vocabulary\" : \"slovniik\" , \"book\" : \"kniha\" , \"keyboard\" : \"klavesnice\" , \"botle\" : \"lahev\" , \"table\" : \"stul\" , \"paper\" : \"pair\" , \"code\" : \"kod\" , \"nine\" : \"devet\" , \"ten\" : \"deset\"\n",
        "           }"
      ],
      "execution_count": 7,
      "outputs": []
    },
    {
      "cell_type": "code",
      "metadata": {
        "colab": {
          "base_uri": "https://localhost:8080/",
          "height": 35
        },
        "id": "n2hFX37zxOJu",
        "outputId": "0f025820-2d81-461e-b9bd-f8112551f26f"
      },
      "source": [
        "slovnik[\"keyboard\"]"
      ],
      "execution_count": 8,
      "outputs": [
        {
          "output_type": "execute_result",
          "data": {
            "application/vnd.google.colaboratory.intrinsic+json": {
              "type": "string"
            },
            "text/plain": [
              "'klavesnice'"
            ]
          },
          "metadata": {},
          "execution_count": 8
        }
      ]
    },
    {
      "cell_type": "code",
      "metadata": {
        "colab": {
          "base_uri": "https://localhost:8080/"
        },
        "id": "5M4_AE7V2Etb",
        "outputId": "b0d00f28-fb5f-4091-cd67-7d08ac686021"
      },
      "source": [
        "ord(\"\\\\\") "
      ],
      "execution_count": 22,
      "outputs": [
        {
          "output_type": "execute_result",
          "data": {
            "text/plain": [
              "92"
            ]
          },
          "metadata": {},
          "execution_count": 22
        }
      ]
    },
    {
      "cell_type": "code",
      "metadata": {
        "colab": {
          "base_uri": "https://localhost:8080/",
          "height": 706
        },
        "id": "WuG8X7nQxZmq",
        "outputId": "cb7fb8cb-ed76-42ef-ed49-9489e648f941"
      },
      "source": [
        "slovnik = {\"lama\": \"lama\", \"pumpkin\": \"dýně\", \"cat\": \"kočka\", \n",
        "           \"dog\": \"pes\", \"rabbit\": \"králík\", \"watter\": \"voda\",\n",
        "           \"under\": \"pod\", \"keyboard\": \"klávesnice\", \"cave\": \"jeskyně\", \n",
        "           \"name\": \"Vojta\"}\n",
        "\n",
        "#uvitani\n",
        "print(\"Klice na vyber: \", *list(slovnik.keys()), sep=\"\\n\")\n",
        "\n",
        "#akcni cast\n",
        "while True:\n",
        "  zadani = input(\"Napis slovo EN -> CZ: (Pro ukonceni napis q): \").lower()\n",
        "\n",
        "  if zadani in slovnik:\n",
        "    print(slovnik[zadani])\n",
        "  \n",
        "  elif zadani == \"q\":\n",
        "    print(\"Ukoncuji aplikaci\")\n",
        "    break\n",
        "\n",
        "  else:\n",
        "    print(\"Tento klic neni ve slovniku.\")"
      ],
      "execution_count": 19,
      "outputs": [
        {
          "output_type": "stream",
          "name": "stdout",
          "text": [
            "Klice na vyber: \n",
            "lama\n",
            "pumpkin\n",
            "cat\n",
            "dog\n",
            "rabbit\n",
            "watter\n",
            "under\n",
            "keyboard\n",
            "cave\n",
            "name\n"
          ]
        },
        {
          "output_type": "error",
          "ename": "KeyboardInterrupt",
          "evalue": "ignored",
          "traceback": [
            "\u001b[0;31m---------------------------------------------------------------------------\u001b[0m",
            "\u001b[0;31mKeyboardInterrupt\u001b[0m                         Traceback (most recent call last)",
            "\u001b[0;32m/usr/local/lib/python3.7/dist-packages/ipykernel/kernelbase.py\u001b[0m in \u001b[0;36m_input_request\u001b[0;34m(self, prompt, ident, parent, password)\u001b[0m\n\u001b[1;32m    728\u001b[0m             \u001b[0;32mtry\u001b[0m\u001b[0;34m:\u001b[0m\u001b[0;34m\u001b[0m\u001b[0;34m\u001b[0m\u001b[0m\n\u001b[0;32m--> 729\u001b[0;31m                 \u001b[0mident\u001b[0m\u001b[0;34m,\u001b[0m \u001b[0mreply\u001b[0m \u001b[0;34m=\u001b[0m \u001b[0mself\u001b[0m\u001b[0;34m.\u001b[0m\u001b[0msession\u001b[0m\u001b[0;34m.\u001b[0m\u001b[0mrecv\u001b[0m\u001b[0;34m(\u001b[0m\u001b[0mself\u001b[0m\u001b[0;34m.\u001b[0m\u001b[0mstdin_socket\u001b[0m\u001b[0;34m,\u001b[0m \u001b[0;36m0\u001b[0m\u001b[0;34m)\u001b[0m\u001b[0;34m\u001b[0m\u001b[0;34m\u001b[0m\u001b[0m\n\u001b[0m\u001b[1;32m    730\u001b[0m             \u001b[0;32mexcept\u001b[0m \u001b[0mException\u001b[0m\u001b[0;34m:\u001b[0m\u001b[0;34m\u001b[0m\u001b[0;34m\u001b[0m\u001b[0m\n",
            "\u001b[0;32m/usr/local/lib/python3.7/dist-packages/jupyter_client/session.py\u001b[0m in \u001b[0;36mrecv\u001b[0;34m(self, socket, mode, content, copy)\u001b[0m\n\u001b[1;32m    802\u001b[0m         \u001b[0;32mtry\u001b[0m\u001b[0;34m:\u001b[0m\u001b[0;34m\u001b[0m\u001b[0;34m\u001b[0m\u001b[0m\n\u001b[0;32m--> 803\u001b[0;31m             \u001b[0mmsg_list\u001b[0m \u001b[0;34m=\u001b[0m \u001b[0msocket\u001b[0m\u001b[0;34m.\u001b[0m\u001b[0mrecv_multipart\u001b[0m\u001b[0;34m(\u001b[0m\u001b[0mmode\u001b[0m\u001b[0;34m,\u001b[0m \u001b[0mcopy\u001b[0m\u001b[0;34m=\u001b[0m\u001b[0mcopy\u001b[0m\u001b[0;34m)\u001b[0m\u001b[0;34m\u001b[0m\u001b[0;34m\u001b[0m\u001b[0m\n\u001b[0m\u001b[1;32m    804\u001b[0m         \u001b[0;32mexcept\u001b[0m \u001b[0mzmq\u001b[0m\u001b[0;34m.\u001b[0m\u001b[0mZMQError\u001b[0m \u001b[0;32mas\u001b[0m \u001b[0me\u001b[0m\u001b[0;34m:\u001b[0m\u001b[0;34m\u001b[0m\u001b[0;34m\u001b[0m\u001b[0m\n",
            "\u001b[0;32m/usr/local/lib/python3.7/dist-packages/zmq/sugar/socket.py\u001b[0m in \u001b[0;36mrecv_multipart\u001b[0;34m(self, flags, copy, track)\u001b[0m\n\u001b[1;32m    624\u001b[0m         \"\"\"\n\u001b[0;32m--> 625\u001b[0;31m         \u001b[0mparts\u001b[0m \u001b[0;34m=\u001b[0m \u001b[0;34m[\u001b[0m\u001b[0mself\u001b[0m\u001b[0;34m.\u001b[0m\u001b[0mrecv\u001b[0m\u001b[0;34m(\u001b[0m\u001b[0mflags\u001b[0m\u001b[0;34m,\u001b[0m \u001b[0mcopy\u001b[0m\u001b[0;34m=\u001b[0m\u001b[0mcopy\u001b[0m\u001b[0;34m,\u001b[0m \u001b[0mtrack\u001b[0m\u001b[0;34m=\u001b[0m\u001b[0mtrack\u001b[0m\u001b[0;34m)\u001b[0m\u001b[0;34m]\u001b[0m\u001b[0;34m\u001b[0m\u001b[0;34m\u001b[0m\u001b[0m\n\u001b[0m\u001b[1;32m    626\u001b[0m         \u001b[0;31m# have first part already, only loop while more to receive\u001b[0m\u001b[0;34m\u001b[0m\u001b[0;34m\u001b[0m\u001b[0;34m\u001b[0m\u001b[0m\n",
            "\u001b[0;32mzmq/backend/cython/socket.pyx\u001b[0m in \u001b[0;36mzmq.backend.cython.socket.Socket.recv\u001b[0;34m()\u001b[0m\n",
            "\u001b[0;32mzmq/backend/cython/socket.pyx\u001b[0m in \u001b[0;36mzmq.backend.cython.socket.Socket.recv\u001b[0;34m()\u001b[0m\n",
            "\u001b[0;32mzmq/backend/cython/socket.pyx\u001b[0m in \u001b[0;36mzmq.backend.cython.socket._recv_copy\u001b[0;34m()\u001b[0m\n",
            "\u001b[0;32m/usr/local/lib/python3.7/dist-packages/zmq/backend/cython/checkrc.pxd\u001b[0m in \u001b[0;36mzmq.backend.cython.checkrc._check_rc\u001b[0;34m()\u001b[0m\n",
            "\u001b[0;31mKeyboardInterrupt\u001b[0m: ",
            "\nDuring handling of the above exception, another exception occurred:\n",
            "\u001b[0;31mKeyboardInterrupt\u001b[0m                         Traceback (most recent call last)",
            "\u001b[0;32m<ipython-input-19-c6384f48a7bc>\u001b[0m in \u001b[0;36m<module>\u001b[0;34m()\u001b[0m\n\u001b[1;32m      9\u001b[0m \u001b[0;31m#akcni cast\u001b[0m\u001b[0;34m\u001b[0m\u001b[0;34m\u001b[0m\u001b[0;34m\u001b[0m\u001b[0m\n\u001b[1;32m     10\u001b[0m \u001b[0;32mwhile\u001b[0m \u001b[0;32mTrue\u001b[0m\u001b[0;34m:\u001b[0m\u001b[0;34m\u001b[0m\u001b[0;34m\u001b[0m\u001b[0m\n\u001b[0;32m---> 11\u001b[0;31m   \u001b[0mzadani\u001b[0m \u001b[0;34m=\u001b[0m \u001b[0minput\u001b[0m\u001b[0;34m(\u001b[0m\u001b[0;34m\"Napis slovo EN -> CZ: (Pro ukonceni napis q): \"\u001b[0m\u001b[0;34m)\u001b[0m\u001b[0;34m.\u001b[0m\u001b[0mlower\u001b[0m\u001b[0;34m(\u001b[0m\u001b[0;34m)\u001b[0m\u001b[0;34m\u001b[0m\u001b[0;34m\u001b[0m\u001b[0m\n\u001b[0m\u001b[1;32m     12\u001b[0m \u001b[0;34m\u001b[0m\u001b[0m\n\u001b[1;32m     13\u001b[0m   \u001b[0;32mif\u001b[0m \u001b[0mzadani\u001b[0m \u001b[0;32min\u001b[0m \u001b[0mslovnik\u001b[0m\u001b[0;34m:\u001b[0m\u001b[0;34m\u001b[0m\u001b[0;34m\u001b[0m\u001b[0m\n",
            "\u001b[0;32m/usr/local/lib/python3.7/dist-packages/ipykernel/kernelbase.py\u001b[0m in \u001b[0;36mraw_input\u001b[0;34m(self, prompt)\u001b[0m\n\u001b[1;32m    702\u001b[0m             \u001b[0mself\u001b[0m\u001b[0;34m.\u001b[0m\u001b[0m_parent_ident\u001b[0m\u001b[0;34m,\u001b[0m\u001b[0;34m\u001b[0m\u001b[0;34m\u001b[0m\u001b[0m\n\u001b[1;32m    703\u001b[0m             \u001b[0mself\u001b[0m\u001b[0;34m.\u001b[0m\u001b[0m_parent_header\u001b[0m\u001b[0;34m,\u001b[0m\u001b[0;34m\u001b[0m\u001b[0;34m\u001b[0m\u001b[0m\n\u001b[0;32m--> 704\u001b[0;31m             \u001b[0mpassword\u001b[0m\u001b[0;34m=\u001b[0m\u001b[0;32mFalse\u001b[0m\u001b[0;34m,\u001b[0m\u001b[0;34m\u001b[0m\u001b[0;34m\u001b[0m\u001b[0m\n\u001b[0m\u001b[1;32m    705\u001b[0m         )\n\u001b[1;32m    706\u001b[0m \u001b[0;34m\u001b[0m\u001b[0m\n",
            "\u001b[0;32m/usr/local/lib/python3.7/dist-packages/ipykernel/kernelbase.py\u001b[0m in \u001b[0;36m_input_request\u001b[0;34m(self, prompt, ident, parent, password)\u001b[0m\n\u001b[1;32m    732\u001b[0m             \u001b[0;32mexcept\u001b[0m \u001b[0mKeyboardInterrupt\u001b[0m\u001b[0;34m:\u001b[0m\u001b[0;34m\u001b[0m\u001b[0;34m\u001b[0m\u001b[0m\n\u001b[1;32m    733\u001b[0m                 \u001b[0;31m# re-raise KeyboardInterrupt, to truncate traceback\u001b[0m\u001b[0;34m\u001b[0m\u001b[0;34m\u001b[0m\u001b[0;34m\u001b[0m\u001b[0m\n\u001b[0;32m--> 734\u001b[0;31m                 \u001b[0;32mraise\u001b[0m \u001b[0mKeyboardInterrupt\u001b[0m\u001b[0;34m\u001b[0m\u001b[0;34m\u001b[0m\u001b[0m\n\u001b[0m\u001b[1;32m    735\u001b[0m             \u001b[0;32melse\u001b[0m\u001b[0;34m:\u001b[0m\u001b[0;34m\u001b[0m\u001b[0;34m\u001b[0m\u001b[0m\n\u001b[1;32m    736\u001b[0m                 \u001b[0;32mbreak\u001b[0m\u001b[0;34m\u001b[0m\u001b[0;34m\u001b[0m\u001b[0m\n",
            "\u001b[0;31mKeyboardInterrupt\u001b[0m: "
          ]
        }
      ]
    },
    {
      "cell_type": "code",
      "metadata": {
        "colab": {
          "base_uri": "https://localhost:8080/"
        },
        "id": "o2QLuYzkxrpM",
        "outputId": "bb176d71-cd8a-4a65-bbc9-4ae798bacdd6"
      },
      "source": [
        "slovnik = { 'A':'.-', 'B':'-...', \n",
        "            'C':'-.-.', 'D':'-..', 'E':'.', \n",
        "            'F':'..-.', 'G':'--.', 'H':'....', \n",
        "            'I':'..', 'J':'.---', 'K':'-.-', \n",
        "            'L':'.-..', 'M':'--', 'N':'-.', \n",
        "            'O':'---', 'P':'.--.', 'Q':'--.-', \n",
        "            'R':'.-.', 'S':'...', 'T':'-', \n",
        "            'U':'..-', 'V':'...-', 'W':'.--', \n",
        "            'X':'-..-', 'Y':'-.--', 'Z':'--..', \n",
        "            '1':'.----', '2':'..---', '3':'...--', \n",
        "            '4':'....-', '5':'.....', '6':'-....', \n",
        "            '7':'--...', '8':'---..', '9':'----.', \n",
        "            '0':'-----', ', ':'--..--', '.':'.-.-.-', \n",
        "            '?':'..--..', '/':'-..-.', '-':'-....-', \n",
        "            '(':'-.--.', ')':'-.--.-'}\n",
        "\n",
        "#uvitani\n",
        "print(\"Klice na vyber: \", list(slovnik.keys()))\n",
        "list_zprav = [] #prostor pro jednotliva slova\n",
        "#akcni cast\n",
        "while True:\n",
        "  #Pro preklad uz nebudu zadavat\n",
        "  zadani = input(\"Napis slovo a preved do Morzeovky (Pro ukonceni napis q): \").upper()\n",
        "  zprava = \"\" #prostor pro kazde slovo... kazdou smycku ho prepisu.\n",
        "  #Pro ukonceni while smycky\n",
        "  if zadani.lower() == \"q\":\n",
        "      print(\"Ukoncuji aplikaci\")\n",
        "      break\n",
        "  #Pro spravny prubeh\n",
        "  else:\n",
        "    print(\"Jdu prevadt slovo.\")\n",
        "    #Pro kazdy znak \n",
        "    for znak in zadani:\n",
        "      #Zjisti jesti je uvnitr slovniku\n",
        "      if znak in slovnik:\n",
        "        zprava = zprava + \"+\" + slovnik[znak]\n",
        "      #jinak vypis\n",
        "      else:\n",
        "        print(\"Tento klic neni ve slovniku.\")\n",
        "\n",
        "  print(zprava)\n",
        "  list_zprav.append(zprava)\n",
        "print(list_zprav)"
      ],
      "execution_count": 25,
      "outputs": [
        {
          "output_type": "stream",
          "name": "stdout",
          "text": [
            "Klice na vyber:  ['A', 'B', 'C', 'D', 'E', 'F', 'G', 'H', 'I', 'J', 'K', 'L', 'M', 'N', 'O', 'P', 'Q', 'R', 'S', 'T', 'U', 'V', 'W', 'X', 'Y', 'Z', '1', '2', '3', '4', '5', '6', '7', '8', '9', '0', ', ', '.', '?', '/', '-', '(', ')']\n",
            "Napis slovo EN -> CZ: (Pro ukonceni napis q): Python\n",
            "Jdu prevadt slovo.\n",
            "+.--.+-.--+-+....+---+-.\n",
            "Napis slovo EN -> CZ: (Pro ukonceni napis q): je\n",
            "Jdu prevadt slovo.\n",
            "+.---+.\n",
            "Napis slovo EN -> CZ: (Pro ukonceni napis q): skvely\n",
            "Jdu prevadt slovo.\n",
            "+...+-.-+...-+.+.-..+-.--\n",
            "Napis slovo EN -> CZ: (Pro ukonceni napis q): q\n",
            "Ukoncuji aplikaci\n",
            "['+.--.+-.--+-+....+---+-.', '+.---+.', '+...+-.-+...-+.+.-..+-.--']\n"
          ]
        }
      ]
    },
    {
      "cell_type": "code",
      "metadata": {
        "colab": {
          "base_uri": "https://localhost:8080/"
        },
        "id": "ZaqxxscY61V5",
        "outputId": "77ca7968-eb12-4b9c-a9b8-e87c3dc0f548"
      },
      "source": [
        "slovnik.values()"
      ],
      "execution_count": 26,
      "outputs": [
        {
          "output_type": "execute_result",
          "data": {
            "text/plain": [
              "dict_values(['.-', '-...', '-.-.', '-..', '.', '..-.', '--.', '....', '..', '.---', '-.-', '.-..', '--', '-.', '---', '.--.', '--.-', '.-.', '...', '-', '..-', '...-', '.--', '-..-', '-.--', '--..', '.----', '..---', '...--', '....-', '.....', '-....', '--...', '---..', '----.', '-----', '--..--', '.-.-.-', '..--..', '-..-.', '-....-', '-.--.', '-.--.-'])"
            ]
          },
          "metadata": {},
          "execution_count": 26
        }
      ]
    },
    {
      "cell_type": "code",
      "metadata": {
        "colab": {
          "base_uri": "https://localhost:8080/"
        },
        "id": "ELlZpwWA64rF",
        "outputId": "8943d99d-00b3-440c-ba4a-ec482edccb3d"
      },
      "source": [
        "slovnik.items()"
      ],
      "execution_count": 27,
      "outputs": [
        {
          "output_type": "execute_result",
          "data": {
            "text/plain": [
              "dict_items([('A', '.-'), ('B', '-...'), ('C', '-.-.'), ('D', '-..'), ('E', '.'), ('F', '..-.'), ('G', '--.'), ('H', '....'), ('I', '..'), ('J', '.---'), ('K', '-.-'), ('L', '.-..'), ('M', '--'), ('N', '-.'), ('O', '---'), ('P', '.--.'), ('Q', '--.-'), ('R', '.-.'), ('S', '...'), ('T', '-'), ('U', '..-'), ('V', '...-'), ('W', '.--'), ('X', '-..-'), ('Y', '-.--'), ('Z', '--..'), ('1', '.----'), ('2', '..---'), ('3', '...--'), ('4', '....-'), ('5', '.....'), ('6', '-....'), ('7', '--...'), ('8', '---..'), ('9', '----.'), ('0', '-----'), (', ', '--..--'), ('.', '.-.-.-'), ('?', '..--..'), ('/', '-..-.'), ('-', '-....-'), ('(', '-.--.'), (')', '-.--.-')])"
            ]
          },
          "metadata": {},
          "execution_count": 27
        }
      ]
    },
    {
      "cell_type": "code",
      "metadata": {
        "colab": {
          "base_uri": "https://localhost:8080/"
        },
        "id": "53ppkAbu7N3r",
        "outputId": "1289dc04-5909-45fa-9fe3-7b2584354e36"
      },
      "source": [
        "re_slovnik = {}\n",
        "for klic, hodnota in slovnik.items():\n",
        "  re_slovnik[hodnota] = klic\n",
        "print(re_slovnik)"
      ],
      "execution_count": 29,
      "outputs": [
        {
          "output_type": "stream",
          "name": "stdout",
          "text": [
            "{'.-': 'A', '-...': 'B', '-.-.': 'C', '-..': 'D', '.': 'E', '..-.': 'F', '--.': 'G', '....': 'H', '..': 'I', '.---': 'J', '-.-': 'K', '.-..': 'L', '--': 'M', '-.': 'N', '---': 'O', '.--.': 'P', '--.-': 'Q', '.-.': 'R', '...': 'S', '-': 'T', '..-': 'U', '...-': 'V', '.--': 'W', '-..-': 'X', '-.--': 'Y', '--..': 'Z', '.----': '1', '..---': '2', '...--': '3', '....-': '4', '.....': '5', '-....': '6', '--...': '7', '---..': '8', '----.': '9', '-----': '0', '--..--': ', ', '.-.-.-': '.', '..--..': '?', '-..-.': '/', '-....-': '-', '-.--.': '(', '-.--.-': ')'}\n"
          ]
        }
      ]
    },
    {
      "cell_type": "code",
      "metadata": {
        "colab": {
          "base_uri": "https://localhost:8080/"
        },
        "id": "8CwdLHVF6w4A",
        "outputId": "50a88f92-29d9-4dcb-d2a0-bcabb71960ba"
      },
      "source": [
        "#Vytvorte opacny preklad...... listu_zprav na nas text.\n",
        "list_zprav\n",
        "re_slovnik"
      ],
      "execution_count": 30,
      "outputs": [
        {
          "output_type": "execute_result",
          "data": {
            "text/plain": [
              "{'-': 'T',\n",
              " '--': 'M',\n",
              " '---': 'O',\n",
              " '-----': '0',\n",
              " '----.': '9',\n",
              " '---..': '8',\n",
              " '--.': 'G',\n",
              " '--.-': 'Q',\n",
              " '--..': 'Z',\n",
              " '--..--': ', ',\n",
              " '--...': '7',\n",
              " '-.': 'N',\n",
              " '-.-': 'K',\n",
              " '-.--': 'Y',\n",
              " '-.--.': '(',\n",
              " '-.--.-': ')',\n",
              " '-.-.': 'C',\n",
              " '-..': 'D',\n",
              " '-..-': 'X',\n",
              " '-..-.': '/',\n",
              " '-...': 'B',\n",
              " '-....': '6',\n",
              " '-....-': '-',\n",
              " '.': 'E',\n",
              " '.-': 'A',\n",
              " '.--': 'W',\n",
              " '.---': 'J',\n",
              " '.----': '1',\n",
              " '.--.': 'P',\n",
              " '.-.': 'R',\n",
              " '.-.-.-': '.',\n",
              " '.-..': 'L',\n",
              " '..': 'I',\n",
              " '..-': 'U',\n",
              " '..---': '2',\n",
              " '..--..': '?',\n",
              " '..-.': 'F',\n",
              " '...': 'S',\n",
              " '...-': 'V',\n",
              " '...--': '3',\n",
              " '....': 'H',\n",
              " '....-': '4',\n",
              " '.....': '5'}"
            ]
          },
          "metadata": {},
          "execution_count": 30
        }
      ]
    },
    {
      "cell_type": "code",
      "metadata": {
        "colab": {
          "base_uri": "https://localhost:8080/"
        },
        "id": "KXltSTYmAKRS",
        "outputId": "7e2a05ff-95c2-4355-b631-164143a29bc1"
      },
      "source": [
        "list_zprav"
      ],
      "execution_count": 32,
      "outputs": [
        {
          "output_type": "execute_result",
          "data": {
            "text/plain": [
              "['+.--.+-.--+-+....+---+-.', '+.---+.', '+...+-.-+...-+.+.-..+-.--']"
            ]
          },
          "metadata": {},
          "execution_count": 32
        }
      ]
    },
    {
      "cell_type": "code",
      "metadata": {
        "colab": {
          "base_uri": "https://localhost:8080/"
        },
        "id": "ILfUY6cF8V57",
        "outputId": "10676706-c75e-45a0-b4ee-82e916c6fb32"
      },
      "source": [
        "#Pro preklad uz nebudu zadavat ale projdu forcyklem\n",
        "zprava = \"\"\n",
        "zadani = list_zprav\n",
        "slovnik = re_slovnik\n",
        "\n",
        "for slovo in zadani:\n",
        "  slovo = slovo.split(\"+\")\n",
        "  print(\"Jdu prevadt slovo.\")\n",
        "  #Pro kazdy znak \n",
        "  zprava = zprava + \" \"\n",
        "  for znak in slovo: #list_znaku\n",
        "    #Zjisti jesti je uvnitr slovniku\n",
        "    if znak in slovnik:\n",
        "      zprava = zprava + \"\" + slovnik[znak]\n",
        "    #jinak vypis\n",
        "\n",
        "    else:\n",
        "      print(\"Tento klic neni ve slovniku.\")\n",
        "\n",
        "print(zprava)\n"
      ],
      "execution_count": 37,
      "outputs": [
        {
          "output_type": "stream",
          "name": "stdout",
          "text": [
            "Jdu prevadt slovo.\n",
            "Tento klic neni ve slovniku.\n",
            "Jdu prevadt slovo.\n",
            "Tento klic neni ve slovniku.\n",
            "Jdu prevadt slovo.\n",
            "Tento klic neni ve slovniku.\n",
            " PYTHON JE SKVELY\n"
          ]
        }
      ]
    }
  ]
}
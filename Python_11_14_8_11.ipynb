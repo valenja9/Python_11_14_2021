{
  "nbformat": 4,
  "nbformat_minor": 0,
  "metadata": {
    "colab": {
      "name": "Python_11_14_8_11.ipynb",
      "provenance": [],
      "authorship_tag": "ABX9TyPoXxevIZQgo+QPv7TZEu2U",
      "include_colab_link": true
    },
    "kernelspec": {
      "name": "python3",
      "display_name": "Python 3"
    },
    "language_info": {
      "name": "python"
    }
  },
  "cells": [
    {
      "cell_type": "markdown",
      "metadata": {
        "id": "view-in-github",
        "colab_type": "text"
      },
      "source": [
        "<a href=\"https://colab.research.google.com/github/valenja9/Python_11_14_2021/blob/main/Python_11_14_8_11.ipynb\" target=\"_parent\"><img src=\"https://colab.research.google.com/assets/colab-badge.svg\" alt=\"Open In Colab\"/></a>"
      ]
    },
    {
      "cell_type": "code",
      "metadata": {
        "colab": {
          "base_uri": "https://localhost:8080/"
        },
        "id": "MeC5IsGBu8v-",
        "outputId": "da7609dc-3eb4-4045-c333-623c2d1b3b24"
      },
      "source": [
        "#komentar\n",
        "jmeno = \"Petr\"\n",
        "vek = 34\n",
        "print(jmeno)"
      ],
      "execution_count": 7,
      "outputs": [
        {
          "output_type": "stream",
          "name": "stdout",
          "text": [
            "Petr\n"
          ]
        }
      ]
    },
    {
      "cell_type": "code",
      "metadata": {
        "colab": {
          "base_uri": "https://localhost:8080/"
        },
        "id": "Fd0f-HLEwHP8",
        "outputId": "6efc2b62-54cd-45b0-b73d-a1fcc76894ae"
      },
      "source": [
        "len(jmeno)"
      ],
      "execution_count": 2,
      "outputs": [
        {
          "output_type": "execute_result",
          "data": {
            "text/plain": [
              "4"
            ]
          },
          "metadata": {},
          "execution_count": 2
        }
      ]
    },
    {
      "cell_type": "code",
      "metadata": {
        "colab": {
          "base_uri": "https://localhost:8080/",
          "height": 35
        },
        "id": "jl6WG9V0wOuz",
        "outputId": "95dd3b99-be42-4720-a4a8-2f5b48bbb725"
      },
      "source": [
        "\"{}\".format(jmeno)"
      ],
      "execution_count": 3,
      "outputs": [
        {
          "output_type": "execute_result",
          "data": {
            "application/vnd.google.colaboratory.intrinsic+json": {
              "type": "string"
            },
            "text/plain": [
              "'Petr'"
            ]
          },
          "metadata": {},
          "execution_count": 3
        }
      ]
    },
    {
      "cell_type": "code",
      "metadata": {
        "colab": {
          "base_uri": "https://localhost:8080/",
          "height": 35
        },
        "id": "U0faj5EGwVsj",
        "outputId": "5ab227de-7361-41e4-df1d-e17b2929461a"
      },
      "source": [
        "f\"{jmeno} {vek}\""
      ],
      "execution_count": 8,
      "outputs": [
        {
          "output_type": "execute_result",
          "data": {
            "application/vnd.google.colaboratory.intrinsic+json": {
              "type": "string"
            },
            "text/plain": [
              "'Petr34'"
            ]
          },
          "metadata": {},
          "execution_count": 8
        }
      ]
    },
    {
      "cell_type": "code",
      "metadata": {
        "colab": {
          "base_uri": "https://localhost:8080/",
          "height": 35
        },
        "id": "7c5ShJfiwwmo",
        "outputId": "19617b21-6b74-4353-ac39-790625b53e49"
      },
      "source": [
        "f\"Tohle je sablona na jmeno {jmeno} a vek {vek}\""
      ],
      "execution_count": 10,
      "outputs": [
        {
          "output_type": "execute_result",
          "data": {
            "application/vnd.google.colaboratory.intrinsic+json": {
              "type": "string"
            },
            "text/plain": [
              "'Tohle je sablona na jmeno Petr a vek 34'"
            ]
          },
          "metadata": {},
          "execution_count": 10
        }
      ]
    },
    {
      "cell_type": "code",
      "metadata": {
        "colab": {
          "base_uri": "https://localhost:8080/",
          "height": 52
        },
        "id": "g7jd7oitxAbo",
        "outputId": "d013eac1-3102-45a4-9c0e-a93e2da3c036"
      },
      "source": [
        "input(\"Zadej text: \")"
      ],
      "execution_count": 11,
      "outputs": [
        {
          "name": "stdout",
          "output_type": "stream",
          "text": [
            "Zadej text: Ahoj\n"
          ]
        },
        {
          "output_type": "execute_result",
          "data": {
            "application/vnd.google.colaboratory.intrinsic+json": {
              "type": "string"
            },
            "text/plain": [
              "'Ahoj'"
            ]
          },
          "metadata": {},
          "execution_count": 11
        }
      ]
    },
    {
      "cell_type": "markdown",
      "metadata": {
        "id": "eN2P4CHYxWZ_"
      },
      "source": [
        "https://docs.python.org/3/library/functions.html"
      ]
    },
    {
      "cell_type": "code",
      "metadata": {
        "colab": {
          "base_uri": "https://localhost:8080/",
          "height": 35
        },
        "id": "FH9q9jj6x2ad",
        "outputId": "435b72e3-7528-4454-a4b0-e83898db3915"
      },
      "source": [
        "str(5)"
      ],
      "execution_count": 15,
      "outputs": [
        {
          "output_type": "execute_result",
          "data": {
            "application/vnd.google.colaboratory.intrinsic+json": {
              "type": "string"
            },
            "text/plain": [
              "'5'"
            ]
          },
          "metadata": {},
          "execution_count": 15
        }
      ]
    },
    {
      "cell_type": "code",
      "metadata": {
        "colab": {
          "base_uri": "https://localhost:8080/"
        },
        "id": "KVzxI1unx9hU",
        "outputId": "2e3e04e3-9419-4fef-f8e8-eda4f08d4656"
      },
      "source": [
        "int(\"5\")"
      ],
      "execution_count": 16,
      "outputs": [
        {
          "output_type": "execute_result",
          "data": {
            "text/plain": [
              "5"
            ]
          },
          "metadata": {},
          "execution_count": 16
        }
      ]
    },
    {
      "cell_type": "code",
      "metadata": {
        "colab": {
          "base_uri": "https://localhost:8080/"
        },
        "id": "ewHtGk3CyCw0",
        "outputId": "c80cd692-ea1b-4b6b-f280-a545655adeff"
      },
      "source": [
        "float(6)"
      ],
      "execution_count": 18,
      "outputs": [
        {
          "output_type": "execute_result",
          "data": {
            "text/plain": [
              "6.0"
            ]
          },
          "metadata": {},
          "execution_count": 18
        }
      ]
    },
    {
      "cell_type": "code",
      "metadata": {
        "colab": {
          "base_uri": "https://localhost:8080/"
        },
        "id": "sNjHGSpUxAQN",
        "outputId": "7276fdaf-9a06-41ab-9adf-0d0bfa14016f"
      },
      "source": [
        "bool(\"T\")"
      ],
      "execution_count": 12,
      "outputs": [
        {
          "output_type": "execute_result",
          "data": {
            "text/plain": [
              "True"
            ]
          },
          "metadata": {},
          "execution_count": 12
        }
      ]
    },
    {
      "cell_type": "code",
      "metadata": {
        "colab": {
          "base_uri": "https://localhost:8080/"
        },
        "id": "T565t7rNxxEf",
        "outputId": "6425757d-4437-4b93-fe5d-c3e2d7cc33e1"
      },
      "source": [
        "bool(\"\")"
      ],
      "execution_count": 14,
      "outputs": [
        {
          "output_type": "execute_result",
          "data": {
            "text/plain": [
              "False"
            ]
          },
          "metadata": {},
          "execution_count": 14
        }
      ]
    },
    {
      "cell_type": "code",
      "metadata": {
        "colab": {
          "base_uri": "https://localhost:8080/"
        },
        "id": "pdJZXT52xp_I",
        "outputId": "b8c3390b-ff68-4a75-a4ec-c2b3e3f646ad"
      },
      "source": [
        "bool(0)"
      ],
      "execution_count": 13,
      "outputs": [
        {
          "output_type": "execute_result",
          "data": {
            "text/plain": [
              "False"
            ]
          },
          "metadata": {},
          "execution_count": 13
        }
      ]
    },
    {
      "cell_type": "code",
      "metadata": {
        "colab": {
          "base_uri": "https://localhost:8080/"
        },
        "id": "be09WvC_yYtX",
        "outputId": "06e7479d-911a-4cea-de9d-02ce4b9fd923"
      },
      "source": [
        "sum([3,4,5,6,8,6,3,4])"
      ],
      "execution_count": 19,
      "outputs": [
        {
          "output_type": "execute_result",
          "data": {
            "text/plain": [
              "39"
            ]
          },
          "metadata": {},
          "execution_count": 19
        }
      ]
    },
    {
      "cell_type": "code",
      "metadata": {
        "id": "LugQnKtPyuJ9"
      },
      "source": [
        "l = [] #tohle je list"
      ],
      "execution_count": 20,
      "outputs": []
    },
    {
      "cell_type": "code",
      "metadata": {
        "id": "9eKdEXVlyxJE"
      },
      "source": [
        "l."
      ],
      "execution_count": null,
      "outputs": []
    },
    {
      "cell_type": "code",
      "metadata": {
        "colab": {
          "base_uri": "https://localhost:8080/",
          "height": 35
        },
        "id": "SmDZXNqnykzc",
        "outputId": "4e32fb0d-03ec-473d-89ca-ded62fb101a6"
      },
      "source": [
        "text = \"tohle je text\"\n",
        "text.center(50, \"+\")"
      ],
      "execution_count": 24,
      "outputs": [
        {
          "output_type": "execute_result",
          "data": {
            "application/vnd.google.colaboratory.intrinsic+json": {
              "type": "string"
            },
            "text/plain": [
              "'++++++++++++++++++tohle je text+++++++++++++++++++'"
            ]
          },
          "metadata": {},
          "execution_count": 24
        }
      ]
    },
    {
      "cell_type": "code",
      "metadata": {
        "id": "Apw__MhUzYrG"
      },
      "source": [
        "text."
      ],
      "execution_count": null,
      "outputs": []
    },
    {
      "cell_type": "code",
      "metadata": {
        "colab": {
          "base_uri": "https://localhost:8080/",
          "height": 35
        },
        "id": "dmkqV3Nwz_bm",
        "outputId": "9b14783f-547a-4cb6-8900-ac2a94d85396"
      },
      "source": [
        "\"+\".join([\"kuba\",\"petr\"])"
      ],
      "execution_count": 26,
      "outputs": [
        {
          "output_type": "execute_result",
          "data": {
            "application/vnd.google.colaboratory.intrinsic+json": {
              "type": "string"
            },
            "text/plain": [
              "'kuba+petr'"
            ]
          },
          "metadata": {},
          "execution_count": 26
        }
      ]
    },
    {
      "cell_type": "code",
      "metadata": {
        "colab": {
          "base_uri": "https://localhost:8080/"
        },
        "id": "DD23xX7a0IR7",
        "outputId": "08474d50-1340-4118-98d3-5db1ece2694f"
      },
      "source": [
        "text.split()"
      ],
      "execution_count": 27,
      "outputs": [
        {
          "output_type": "execute_result",
          "data": {
            "text/plain": [
              "['tohle', 'je', 'text']"
            ]
          },
          "metadata": {},
          "execution_count": 27
        }
      ]
    },
    {
      "cell_type": "code",
      "metadata": {
        "colab": {
          "base_uri": "https://localhost:8080/"
        },
        "id": "Bbz7UeNn0kWd",
        "outputId": "0d4c3f10-0b8a-4701-bba8-5aa9f0ad30d4"
      },
      "source": [
        "list_slov = ['tohle', 'je', 'text']\n",
        "for slovo in list_slov:\n",
        "  print(slovo)"
      ],
      "execution_count": 29,
      "outputs": [
        {
          "output_type": "stream",
          "name": "stdout",
          "text": [
            "tohle\n",
            "je\n",
            "text\n"
          ]
        }
      ]
    },
    {
      "cell_type": "code",
      "metadata": {
        "colab": {
          "base_uri": "https://localhost:8080/",
          "height": 35
        },
        "id": "cAgYBQfQ0-lW",
        "outputId": "05bea062-e1d7-446a-a908-802757ac4b71"
      },
      "source": [
        "slovo"
      ],
      "execution_count": 30,
      "outputs": [
        {
          "output_type": "execute_result",
          "data": {
            "application/vnd.google.colaboratory.intrinsic+json": {
              "type": "string"
            },
            "text/plain": [
              "'text'"
            ]
          },
          "metadata": {},
          "execution_count": 30
        }
      ]
    },
    {
      "cell_type": "code",
      "metadata": {
        "colab": {
          "base_uri": "https://localhost:8080/"
        },
        "id": "19o6qeaZ0Pub",
        "outputId": "16df282e-5d1f-4568-879a-590ce755cb79"
      },
      "source": [
        "for i in range(40):\n",
        "  print(\"Ahoj\")"
      ],
      "execution_count": 28,
      "outputs": [
        {
          "output_type": "stream",
          "name": "stdout",
          "text": [
            "Ahoj\n",
            "Ahoj\n",
            "Ahoj\n",
            "Ahoj\n",
            "Ahoj\n",
            "Ahoj\n",
            "Ahoj\n",
            "Ahoj\n",
            "Ahoj\n",
            "Ahoj\n",
            "Ahoj\n",
            "Ahoj\n",
            "Ahoj\n",
            "Ahoj\n",
            "Ahoj\n",
            "Ahoj\n",
            "Ahoj\n",
            "Ahoj\n",
            "Ahoj\n",
            "Ahoj\n",
            "Ahoj\n",
            "Ahoj\n",
            "Ahoj\n",
            "Ahoj\n",
            "Ahoj\n",
            "Ahoj\n",
            "Ahoj\n",
            "Ahoj\n",
            "Ahoj\n",
            "Ahoj\n",
            "Ahoj\n",
            "Ahoj\n",
            "Ahoj\n",
            "Ahoj\n",
            "Ahoj\n",
            "Ahoj\n",
            "Ahoj\n",
            "Ahoj\n",
            "Ahoj\n",
            "Ahoj\n"
          ]
        }
      ]
    },
    {
      "cell_type": "code",
      "metadata": {
        "colab": {
          "base_uri": "https://localhost:8080/"
        },
        "id": "gglW1oUi1ch5",
        "outputId": "079c2186-4a0c-4166-c3cc-a18bcb9a02b8"
      },
      "source": [
        "list_cisel = [6,7,89,96,4,3,67,8]\n",
        "\n",
        "while list_cisel:\n",
        "  print(\"pred\",list_cisel)\n",
        "  list_cisel = list_cisel[1:]\n",
        "  print(\"po\",list_cisel)"
      ],
      "execution_count": 34,
      "outputs": [
        {
          "output_type": "stream",
          "name": "stdout",
          "text": [
            "pred [6, 7, 89, 96, 4, 3, 67, 8]\n",
            "po [7, 89, 96, 4, 3, 67, 8]\n",
            "pred [7, 89, 96, 4, 3, 67, 8]\n",
            "po [89, 96, 4, 3, 67, 8]\n",
            "pred [89, 96, 4, 3, 67, 8]\n",
            "po [96, 4, 3, 67, 8]\n",
            "pred [96, 4, 3, 67, 8]\n",
            "po [4, 3, 67, 8]\n",
            "pred [4, 3, 67, 8]\n",
            "po [3, 67, 8]\n",
            "pred [3, 67, 8]\n",
            "po [67, 8]\n",
            "pred [67, 8]\n",
            "po [8]\n",
            "pred [8]\n",
            "po []\n"
          ]
        }
      ]
    },
    {
      "cell_type": "code",
      "metadata": {
        "colab": {
          "base_uri": "https://localhost:8080/"
        },
        "id": "3tjVRvcu2VlG",
        "outputId": "139767de-cdbb-48ad-a74c-ec2c875a6df8"
      },
      "source": [
        "cislo = 0\n",
        "while cislo < 50:\n",
        "  cislo = cislo + 1\n",
        "  print(cislo)\n",
        "print(\"Cislo je \", cislo)"
      ],
      "execution_count": 37,
      "outputs": [
        {
          "output_type": "stream",
          "name": "stdout",
          "text": [
            "1\n",
            "2\n",
            "3\n",
            "4\n",
            "5\n",
            "6\n",
            "7\n",
            "8\n",
            "9\n",
            "10\n",
            "11\n",
            "12\n",
            "13\n",
            "14\n",
            "15\n",
            "16\n",
            "17\n",
            "18\n",
            "19\n",
            "20\n",
            "21\n",
            "22\n",
            "23\n",
            "24\n",
            "25\n",
            "26\n",
            "27\n",
            "28\n",
            "29\n",
            "30\n",
            "31\n",
            "32\n",
            "33\n",
            "34\n",
            "35\n",
            "36\n",
            "37\n",
            "38\n",
            "39\n",
            "40\n",
            "41\n",
            "42\n",
            "43\n",
            "44\n",
            "45\n",
            "46\n",
            "47\n",
            "48\n",
            "49\n",
            "50\n",
            "Cislo je  50\n"
          ]
        }
      ]
    },
    {
      "cell_type": "code",
      "metadata": {
        "id": "cNPEGxAu1McG"
      },
      "source": [
        "while False:\n",
        "  print(\"Ahoj\")"
      ],
      "execution_count": 32,
      "outputs": []
    },
    {
      "cell_type": "code",
      "metadata": {
        "colab": {
          "base_uri": "https://localhost:8080/"
        },
        "id": "VP7SD0eQ20HO",
        "outputId": "f32aceea-c3e6-4785-be43-93b0e505633e"
      },
      "source": [
        "while True:\n",
        "  vystup = input(\"Zadej slovo, nebo dej exit: \").lower()\n",
        "  \n",
        "  if vystup == \"exit\":\n",
        "    break\n",
        "\n",
        "  elif vystup == \"sum\":\n",
        "    #Zadej vice cisel\n",
        "    #list_cisel = input(\"Zadej cisla a rozdej je carkou\").split(\",\")\n",
        "    list_novych_cisel = []\n",
        "    while True:\n",
        "      zadej_cislo = input(\"Zadej cislo a pokud uz nebude schti tak dej exit.\")\n",
        "      if zadej_cislo == \"exit\":\n",
        "        break \n",
        "      else:\n",
        "        cislo = int(zadej_cislo)\n",
        "      #pridej do noveho listu\n",
        "        list_novych_cisel.append(cislo)\n",
        "\n",
        "    #list_novych_cisel = []\n",
        "    #musim projik kazde cislo uvnit listu a prevest ho na int\n",
        "   # for cislo in list_cisel:\n",
        "      #cislo = int(cislo)\n",
        "      #pridej do noveho listu\n",
        "      #list_novych_cisel.append(cislo)\n",
        "    print(sum(list_novych_cisel))"
      ],
      "execution_count": 45,
      "outputs": [
        {
          "name": "stdout",
          "output_type": "stream",
          "text": [
            "Zadej slovo, nebo dej exit: sum\n",
            "Zadej cislo a pokud uz nebude schti tak dej exit.3\n",
            "Zadej cislo a pokud uz nebude schti tak dej exit.exit\n",
            "3\n",
            "Zadej slovo, nebo dej exit: exit\n"
          ]
        }
      ]
    },
    {
      "cell_type": "code",
      "metadata": {
        "colab": {
          "base_uri": "https://localhost:8080/",
          "height": 639
        },
        "id": "QXYSblL45jor",
        "outputId": "6f1bf4b3-3e3e-4137-e1ac-12ee053dffe2"
      },
      "source": [
        "list_mest = [\"Rim\", \"Barcelona\", \"Pariz\", \"Pardubice\"]\n",
        "delka = len(list_mest)\n",
        "oddelovac = \"=\" * 100\n",
        "\n",
        "while True:\n",
        "  print(oddelovac)\n",
        "  print(\"Zadej cislo kam chces jet.\")\n",
        "  for poradi,mesto in enumerate(list_mest, 1):\n",
        "    print(poradi, \"-\", mesto)\n",
        "\n",
        "\n",
        "  print(oddelovac)\n",
        "  volba = input(\"Zadej cislo, kam chces jet. Nebo dej exit: \")\n",
        "  print(oddelovac)\n",
        "\n",
        "  if volba == \"exit\":\n",
        "    break\n",
        "  elif int(volba) > delka:\n",
        "    print(f\"Mam na vyber jen ze {delka} mest.\")\n",
        "    for mesto in list_mest:\n",
        "      print(f\"Muzes je jen do {mesto}\")\n",
        "  \n",
        "  else:\n",
        "    index = int(volba)\n",
        "    mesto = list_mest[index - 1]\n",
        "    print(f\"Jedes do tohoto mesta: {mesto}\")\n",
        "print(oddelovac)\n"
      ],
      "execution_count": 52,
      "outputs": [
        {
          "output_type": "stream",
          "name": "stdout",
          "text": [
            "====================================================================================================\n",
            "Zadej cislo kam chces jet.\n",
            "1 - Rim\n",
            "2 - Barcelona\n",
            "3 - Pariz\n",
            "4 - Pardubice\n",
            "====================================================================================================\n"
          ]
        },
        {
          "output_type": "error",
          "ename": "KeyboardInterrupt",
          "evalue": "ignored",
          "traceback": [
            "\u001b[0;31m---------------------------------------------------------------------------\u001b[0m",
            "\u001b[0;31mKeyboardInterrupt\u001b[0m                         Traceback (most recent call last)",
            "\u001b[0;32m/usr/local/lib/python3.7/dist-packages/ipykernel/kernelbase.py\u001b[0m in \u001b[0;36m_input_request\u001b[0;34m(self, prompt, ident, parent, password)\u001b[0m\n\u001b[1;32m    728\u001b[0m             \u001b[0;32mtry\u001b[0m\u001b[0;34m:\u001b[0m\u001b[0;34m\u001b[0m\u001b[0;34m\u001b[0m\u001b[0m\n\u001b[0;32m--> 729\u001b[0;31m                 \u001b[0mident\u001b[0m\u001b[0;34m,\u001b[0m \u001b[0mreply\u001b[0m \u001b[0;34m=\u001b[0m \u001b[0mself\u001b[0m\u001b[0;34m.\u001b[0m\u001b[0msession\u001b[0m\u001b[0;34m.\u001b[0m\u001b[0mrecv\u001b[0m\u001b[0;34m(\u001b[0m\u001b[0mself\u001b[0m\u001b[0;34m.\u001b[0m\u001b[0mstdin_socket\u001b[0m\u001b[0;34m,\u001b[0m \u001b[0;36m0\u001b[0m\u001b[0;34m)\u001b[0m\u001b[0;34m\u001b[0m\u001b[0;34m\u001b[0m\u001b[0m\n\u001b[0m\u001b[1;32m    730\u001b[0m             \u001b[0;32mexcept\u001b[0m \u001b[0mException\u001b[0m\u001b[0;34m:\u001b[0m\u001b[0;34m\u001b[0m\u001b[0;34m\u001b[0m\u001b[0m\n",
            "\u001b[0;32m/usr/local/lib/python3.7/dist-packages/jupyter_client/session.py\u001b[0m in \u001b[0;36mrecv\u001b[0;34m(self, socket, mode, content, copy)\u001b[0m\n\u001b[1;32m    802\u001b[0m         \u001b[0;32mtry\u001b[0m\u001b[0;34m:\u001b[0m\u001b[0;34m\u001b[0m\u001b[0;34m\u001b[0m\u001b[0m\n\u001b[0;32m--> 803\u001b[0;31m             \u001b[0mmsg_list\u001b[0m \u001b[0;34m=\u001b[0m \u001b[0msocket\u001b[0m\u001b[0;34m.\u001b[0m\u001b[0mrecv_multipart\u001b[0m\u001b[0;34m(\u001b[0m\u001b[0mmode\u001b[0m\u001b[0;34m,\u001b[0m \u001b[0mcopy\u001b[0m\u001b[0;34m=\u001b[0m\u001b[0mcopy\u001b[0m\u001b[0;34m)\u001b[0m\u001b[0;34m\u001b[0m\u001b[0;34m\u001b[0m\u001b[0m\n\u001b[0m\u001b[1;32m    804\u001b[0m         \u001b[0;32mexcept\u001b[0m \u001b[0mzmq\u001b[0m\u001b[0;34m.\u001b[0m\u001b[0mZMQError\u001b[0m \u001b[0;32mas\u001b[0m \u001b[0me\u001b[0m\u001b[0;34m:\u001b[0m\u001b[0;34m\u001b[0m\u001b[0;34m\u001b[0m\u001b[0m\n",
            "\u001b[0;32m/usr/local/lib/python3.7/dist-packages/zmq/sugar/socket.py\u001b[0m in \u001b[0;36mrecv_multipart\u001b[0;34m(self, flags, copy, track)\u001b[0m\n\u001b[1;32m    624\u001b[0m         \"\"\"\n\u001b[0;32m--> 625\u001b[0;31m         \u001b[0mparts\u001b[0m \u001b[0;34m=\u001b[0m \u001b[0;34m[\u001b[0m\u001b[0mself\u001b[0m\u001b[0;34m.\u001b[0m\u001b[0mrecv\u001b[0m\u001b[0;34m(\u001b[0m\u001b[0mflags\u001b[0m\u001b[0;34m,\u001b[0m \u001b[0mcopy\u001b[0m\u001b[0;34m=\u001b[0m\u001b[0mcopy\u001b[0m\u001b[0;34m,\u001b[0m \u001b[0mtrack\u001b[0m\u001b[0;34m=\u001b[0m\u001b[0mtrack\u001b[0m\u001b[0;34m)\u001b[0m\u001b[0;34m]\u001b[0m\u001b[0;34m\u001b[0m\u001b[0;34m\u001b[0m\u001b[0m\n\u001b[0m\u001b[1;32m    626\u001b[0m         \u001b[0;31m# have first part already, only loop while more to receive\u001b[0m\u001b[0;34m\u001b[0m\u001b[0;34m\u001b[0m\u001b[0;34m\u001b[0m\u001b[0m\n",
            "\u001b[0;32mzmq/backend/cython/socket.pyx\u001b[0m in \u001b[0;36mzmq.backend.cython.socket.Socket.recv\u001b[0;34m()\u001b[0m\n",
            "\u001b[0;32mzmq/backend/cython/socket.pyx\u001b[0m in \u001b[0;36mzmq.backend.cython.socket.Socket.recv\u001b[0;34m()\u001b[0m\n",
            "\u001b[0;32mzmq/backend/cython/socket.pyx\u001b[0m in \u001b[0;36mzmq.backend.cython.socket._recv_copy\u001b[0;34m()\u001b[0m\n",
            "\u001b[0;32m/usr/local/lib/python3.7/dist-packages/zmq/backend/cython/checkrc.pxd\u001b[0m in \u001b[0;36mzmq.backend.cython.checkrc._check_rc\u001b[0;34m()\u001b[0m\n",
            "\u001b[0;31mKeyboardInterrupt\u001b[0m: ",
            "\nDuring handling of the above exception, another exception occurred:\n",
            "\u001b[0;31mKeyboardInterrupt\u001b[0m                         Traceback (most recent call last)",
            "\u001b[0;32m<ipython-input-52-9cd8690968f9>\u001b[0m in \u001b[0;36m<module>\u001b[0;34m()\u001b[0m\n\u001b[1;32m     11\u001b[0m \u001b[0;34m\u001b[0m\u001b[0m\n\u001b[1;32m     12\u001b[0m   \u001b[0mprint\u001b[0m\u001b[0;34m(\u001b[0m\u001b[0moddelovac\u001b[0m\u001b[0;34m)\u001b[0m\u001b[0;34m\u001b[0m\u001b[0;34m\u001b[0m\u001b[0m\n\u001b[0;32m---> 13\u001b[0;31m   \u001b[0mvolba\u001b[0m \u001b[0;34m=\u001b[0m \u001b[0minput\u001b[0m\u001b[0;34m(\u001b[0m\u001b[0;34m\"Zadej cislo, kam chces jet. Nebo dej exit: \"\u001b[0m\u001b[0;34m)\u001b[0m\u001b[0;34m\u001b[0m\u001b[0;34m\u001b[0m\u001b[0m\n\u001b[0m\u001b[1;32m     14\u001b[0m   \u001b[0mprint\u001b[0m\u001b[0;34m(\u001b[0m\u001b[0moddelovac\u001b[0m\u001b[0;34m)\u001b[0m\u001b[0;34m\u001b[0m\u001b[0;34m\u001b[0m\u001b[0m\n\u001b[1;32m     15\u001b[0m \u001b[0;34m\u001b[0m\u001b[0m\n",
            "\u001b[0;32m/usr/local/lib/python3.7/dist-packages/ipykernel/kernelbase.py\u001b[0m in \u001b[0;36mraw_input\u001b[0;34m(self, prompt)\u001b[0m\n\u001b[1;32m    702\u001b[0m             \u001b[0mself\u001b[0m\u001b[0;34m.\u001b[0m\u001b[0m_parent_ident\u001b[0m\u001b[0;34m,\u001b[0m\u001b[0;34m\u001b[0m\u001b[0;34m\u001b[0m\u001b[0m\n\u001b[1;32m    703\u001b[0m             \u001b[0mself\u001b[0m\u001b[0;34m.\u001b[0m\u001b[0m_parent_header\u001b[0m\u001b[0;34m,\u001b[0m\u001b[0;34m\u001b[0m\u001b[0;34m\u001b[0m\u001b[0m\n\u001b[0;32m--> 704\u001b[0;31m             \u001b[0mpassword\u001b[0m\u001b[0;34m=\u001b[0m\u001b[0;32mFalse\u001b[0m\u001b[0;34m,\u001b[0m\u001b[0;34m\u001b[0m\u001b[0;34m\u001b[0m\u001b[0m\n\u001b[0m\u001b[1;32m    705\u001b[0m         )\n\u001b[1;32m    706\u001b[0m \u001b[0;34m\u001b[0m\u001b[0m\n",
            "\u001b[0;32m/usr/local/lib/python3.7/dist-packages/ipykernel/kernelbase.py\u001b[0m in \u001b[0;36m_input_request\u001b[0;34m(self, prompt, ident, parent, password)\u001b[0m\n\u001b[1;32m    732\u001b[0m             \u001b[0;32mexcept\u001b[0m \u001b[0mKeyboardInterrupt\u001b[0m\u001b[0;34m:\u001b[0m\u001b[0;34m\u001b[0m\u001b[0;34m\u001b[0m\u001b[0m\n\u001b[1;32m    733\u001b[0m                 \u001b[0;31m# re-raise KeyboardInterrupt, to truncate traceback\u001b[0m\u001b[0;34m\u001b[0m\u001b[0;34m\u001b[0m\u001b[0;34m\u001b[0m\u001b[0m\n\u001b[0;32m--> 734\u001b[0;31m                 \u001b[0;32mraise\u001b[0m \u001b[0mKeyboardInterrupt\u001b[0m\u001b[0;34m\u001b[0m\u001b[0;34m\u001b[0m\u001b[0m\n\u001b[0m\u001b[1;32m    735\u001b[0m             \u001b[0;32melse\u001b[0m\u001b[0;34m:\u001b[0m\u001b[0;34m\u001b[0m\u001b[0;34m\u001b[0m\u001b[0m\n\u001b[1;32m    736\u001b[0m                 \u001b[0;32mbreak\u001b[0m\u001b[0;34m\u001b[0m\u001b[0;34m\u001b[0m\u001b[0m\n",
            "\u001b[0;31mKeyboardInterrupt\u001b[0m: "
          ]
        }
      ]
    },
    {
      "cell_type": "code",
      "metadata": {
        "id": "c4uhg50w_koy"
      },
      "source": [
        "original = \"g fmnc wms bgblr rpylqjyrc gr zw fylb. rfyrq ufyr amknsrcpq ypc \" \\\n",
        "    \"dmp. bmgle gr gl zw fylb gq glcddgagclr ylb rfyr'q ufw rfgq \" \\\n",
        "    \"rcvr gq qm jmle. sqgle qrpgle.kyicrpylq() gq pcamkkclbcb. lmu \" \\\n",
        "    \"ynnjw ml rfc spj.\""
      ],
      "execution_count": null,
      "outputs": []
    },
    {
      "cell_type": "code",
      "metadata": {
        "id": "ElDXx2O3AhyS"
      },
      "source": [
        ""
      ],
      "execution_count": null,
      "outputs": []
    },
    {
      "cell_type": "code",
      "metadata": {
        "id": "lgzubkfLAAXN"
      },
      "source": [
        " \"abcdefghijklmnopqrstuvwxyz\"\n",
        " \"cdefghijklmnopqrstuvwxyzab\""
      ],
      "execution_count": null,
      "outputs": []
    },
    {
      "cell_type": "code",
      "metadata": {
        "id": "1OOnHu99AOJ1"
      },
      "source": [
        "jmeno = \"Jakub\"\n",
        "tabulka = jmeno.maketrans(\"Jb\",\"KP\", \"ak\")"
      ],
      "execution_count": 56,
      "outputs": []
    },
    {
      "cell_type": "code",
      "metadata": {
        "colab": {
          "base_uri": "https://localhost:8080/",
          "height": 35
        },
        "id": "oMhY8RxMAw9C",
        "outputId": "d41820d6-0cb8-4b9b-f6b8-43f7ab599b50"
      },
      "source": [
        "jmeno.translate(tabulka)"
      ],
      "execution_count": 57,
      "outputs": [
        {
          "output_type": "execute_result",
          "data": {
            "application/vnd.google.colaboratory.intrinsic+json": {
              "type": "string"
            },
            "text/plain": [
              "'KuP'"
            ]
          },
          "metadata": {},
          "execution_count": 57
        }
      ]
    },
    {
      "cell_type": "code",
      "metadata": {
        "colab": {
          "base_uri": "https://localhost:8080/"
        },
        "id": "ZgKaGvcNBBId",
        "outputId": "5b037b27-cfd9-411e-fe84-fc9bcec96a9f"
      },
      "source": [
        "import string\n",
        "\n",
        "original = \"g fmnc wms bgblr rpylqjyrc gr zw fylb. rfyrq ufyr amknsrcpq ypc \" \\\n",
        "    \"dmp. bmgle gr gl zw fylb gq glcddgagclr ylb rfyr'q ufw rfgq \" \\\n",
        "    \"rcvr gq qm jmle. sqgle qrpgle.kyicrpylq() gq pcamkkclbcb. lmu \" \\\n",
        "    \"ynnjw ml rfc spj.\"\n",
        "\n",
        "table = original.maketrans(\n",
        "    \"abcdefghijklmnopqrstuvwxyz\", \"cdefghijklmnopqrstuvwxyzab\"\n",
        ")\n",
        "\n",
        "print(original.translate(table))"
      ],
      "execution_count": 58,
      "outputs": [
        {
          "output_type": "stream",
          "name": "stdout",
          "text": [
            "i hope you didnt translate it by hand. thats what computers are for. doing it in by hand is inefficient and that's why this text is so long. using string.maketrans() is recommended. now apply on the url.\n"
          ]
        }
      ]
    },
    {
      "cell_type": "code",
      "metadata": {
        "colab": {
          "base_uri": "https://localhost:8080/"
        },
        "id": "jOL0nZRIBNat",
        "outputId": "db0db355-bf1b-41ce-9544-8cb50a545fc6"
      },
      "source": [
        "original = input(\"Zadej text pro zasifrovani: \").lower()\n",
        "\n",
        "abeceda = \"abcdefghijklmnopqrstuvwxyz\"\n",
        "for klic in range(26):\n",
        "  list_pismen = list(abeceda)\n",
        "  sifra = \"\".join(list_pismen[klic:] + list_pismen[:klic])\n",
        "\n",
        "  table = original.maketrans(\n",
        "      abeceda, sifra\n",
        "  )\n",
        "\n",
        "  print(original.translate(table))"
      ],
      "execution_count": 70,
      "outputs": [
        {
          "output_type": "stream",
          "name": "stdout",
          "text": [
            "Zadej text pro zasifrovani: mqpge jqfkpa\n",
            "mqpge jqfkpa\n",
            "nrqhf krglqb\n",
            "osrig lshmrc\n",
            "ptsjh mtinsd\n",
            "qutki nujote\n",
            "rvulj ovkpuf\n",
            "swvmk pwlqvg\n",
            "txwnl qxmrwh\n",
            "uyxom rynsxi\n",
            "vzypn szotyj\n",
            "wazqo tapuzk\n",
            "xbarp ubqval\n",
            "ycbsq vcrwbm\n",
            "zdctr wdsxcn\n",
            "aedus xetydo\n",
            "bfevt yfuzep\n",
            "cgfwu zgvafq\n",
            "dhgxv ahwbgr\n",
            "eihyw bixchs\n",
            "fjizx cjydit\n",
            "gkjay dkzeju\n",
            "hlkbz elafkv\n",
            "imlca fmbglw\n",
            "jnmdb gnchmx\n",
            "konec hodiny\n",
            "lpofd ipejoz\n"
          ]
        }
      ]
    }
  ]
}
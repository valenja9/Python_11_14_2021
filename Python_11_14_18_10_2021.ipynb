{
  "nbformat": 4,
  "nbformat_minor": 0,
  "metadata": {
    "colab": {
      "name": "Python_11_14_18_10_2021.ipynb",
      "provenance": [],
      "authorship_tag": "ABX9TyOI0xEcu3XSC2KMEeMkDbT/",
      "include_colab_link": true
    },
    "kernelspec": {
      "name": "python3",
      "display_name": "Python 3"
    },
    "language_info": {
      "name": "python"
    }
  },
  "cells": [
    {
      "cell_type": "markdown",
      "metadata": {
        "id": "view-in-github",
        "colab_type": "text"
      },
      "source": [
        "<a href=\"https://colab.research.google.com/github/valenja9/Python_11_14_2021/blob/main/Python_11_14_18_10_2021.ipynb\" target=\"_parent\"><img src=\"https://colab.research.google.com/assets/colab-badge.svg\" alt=\"Open In Colab\"/></a>"
      ]
    },
    {
      "cell_type": "code",
      "metadata": {
        "id": "-yuJLP9AY7oa"
      },
      "source": [
        "# = 35 \n",
        "#A = 65 \n",
        "a = 97"
      ],
      "execution_count": null,
      "outputs": []
    },
    {
      "cell_type": "code",
      "metadata": {
        "id": "TLfpgLElZwdT"
      },
      "source": [
        "#byte = 8 bitu   2 na 0... \n",
        "#128 64 32 16 8 4  2  1  = 255\n",
        "#0   1  1   0 0 0  0  1            = 97 \n",
        "#(0 ... 255)  "
      ],
      "execution_count": null,
      "outputs": []
    },
    {
      "cell_type": "code",
      "metadata": {
        "id": "MRJRiKjKbiqL"
      },
      "source": [
        "01100001 = 97 = \"a\""
      ],
      "execution_count": null,
      "outputs": []
    },
    {
      "cell_type": "code",
      "metadata": {
        "id": "XmJVsbznbuyL"
      },
      "source": [
        "#        128 64 32 16 8 4  2  1\n",
        "\"-\" = 45 = 0  0 1  0  1 1  0  1   \n",
        "#        45/128  45/64  45 - 32  = 13,  16/13,  13 - 8 = 5 ,5 -4 = 1 "
      ],
      "execution_count": null,
      "outputs": []
    },
    {
      "cell_type": "code",
      "metadata": {
        "id": "0-fdOE53dWg2"
      },
      "source": [
        "\"Y\" = 98 = 01100010 \n",
        "           01100010"
      ],
      "execution_count": null,
      "outputs": []
    },
    {
      "cell_type": "code",
      "metadata": {
        "colab": {
          "base_uri": "https://localhost:8080/"
        },
        "id": "ajVG-knGd8jL",
        "outputId": "0836b2bf-f146-4fd0-ae4a-08aa21f2c248"
      },
      "source": [
        "ord(\"*\")"
      ],
      "execution_count": 3,
      "outputs": [
        {
          "output_type": "execute_result",
          "data": {
            "text/plain": [
              "42"
            ]
          },
          "metadata": {},
          "execution_count": 3
        }
      ]
    },
    {
      "cell_type": "code",
      "metadata": {
        "colab": {
          "base_uri": "https://localhost:8080/"
        },
        "id": "ABCRfYfHfrtc",
        "outputId": "945f7ef0-4b53-430e-bb76-9ef3e46a586c"
      },
      "source": [
        "\"A\" > \"B\""
      ],
      "execution_count": 4,
      "outputs": [
        {
          "output_type": "execute_result",
          "data": {
            "text/plain": [
              "False"
            ]
          },
          "metadata": {},
          "execution_count": 4
        }
      ]
    },
    {
      "cell_type": "code",
      "metadata": {
        "colab": {
          "base_uri": "https://localhost:8080/"
        },
        "id": "EhB_--4Vf4Oq",
        "outputId": "d8909c2a-aa7e-4fdb-bac3-a56292053b7c"
      },
      "source": [
        "\"Z\" > \"B\""
      ],
      "execution_count": 5,
      "outputs": [
        {
          "output_type": "execute_result",
          "data": {
            "text/plain": [
              "True"
            ]
          },
          "metadata": {},
          "execution_count": 5
        }
      ]
    },
    {
      "cell_type": "code",
      "metadata": {
        "colab": {
          "base_uri": "https://localhost:8080/",
          "height": 35
        },
        "id": "WZ1yCKstdrb7",
        "outputId": "073e91d2-fb35-4bf3-d9f2-24dbe654a611"
      },
      "source": [
        "bin(98)"
      ],
      "execution_count": 2,
      "outputs": [
        {
          "output_type": "execute_result",
          "data": {
            "application/vnd.google.colaboratory.intrinsic+json": {
              "type": "string"
            },
            "text/plain": [
              "'0b1100010'"
            ]
          },
          "metadata": {},
          "execution_count": 2
        }
      ]
    },
    {
      "cell_type": "code",
      "metadata": {
        "colab": {
          "base_uri": "https://localhost:8080/"
        },
        "id": "3fRV6dXRawAy",
        "outputId": "f54ac9a8-8dc2-49ef-e9cc-be960db9cb8f"
      },
      "source": [
        "sum([128, 64, 32, 16, 8, 4,  2,  1])"
      ],
      "execution_count": 1,
      "outputs": [
        {
          "output_type": "execute_result",
          "data": {
            "text/plain": [
              "255"
            ]
          },
          "metadata": {},
          "execution_count": 1
        }
      ]
    },
    {
      "cell_type": "code",
      "metadata": {
        "colab": {
          "base_uri": "https://localhost:8080/"
        },
        "id": "3Zd08uowglET",
        "outputId": "549de6d5-bc24-42ba-aaa4-f0e992904a7e"
      },
      "source": [
        "ord(\"k\") # prevod na dekadickou soustavu.... 0-9 (10)"
      ],
      "execution_count": 8,
      "outputs": [
        {
          "output_type": "execute_result",
          "data": {
            "text/plain": [
              "107"
            ]
          },
          "metadata": {},
          "execution_count": 8
        }
      ]
    },
    {
      "cell_type": "code",
      "metadata": {
        "colab": {
          "base_uri": "https://localhost:8080/",
          "height": 35
        },
        "id": "bz88yrfKg5lJ",
        "outputId": "4ae024a0-36ee-4f94-c92b-471769d4f032"
      },
      "source": [
        "cislo = ord(\"k\")\n",
        "bin(cislo)"
      ],
      "execution_count": 9,
      "outputs": [
        {
          "output_type": "execute_result",
          "data": {
            "application/vnd.google.colaboratory.intrinsic+json": {
              "type": "string"
            },
            "text/plain": [
              "'0b1101011'"
            ]
          },
          "metadata": {},
          "execution_count": 9
        }
      ]
    },
    {
      "cell_type": "code",
      "metadata": {
        "colab": {
          "base_uri": "https://localhost:8080/"
        },
        "id": "uOaTC_MLhUnp",
        "outputId": "ab3f0deb-0314-40d6-d208-13b4a3811ebb"
      },
      "source": [
        "znak = input(\"Zadej znak pro prevod do binarky: \")\n",
        "cislo = ord(znak)\n",
        "pro_prevod = bin(cislo)"
      ],
      "execution_count": 12,
      "outputs": [
        {
          "name": "stdout",
          "output_type": "stream",
          "text": [
            "Zadej znak pro prevod do binarky: s\n"
          ]
        }
      ]
    },
    {
      "cell_type": "code",
      "metadata": {
        "colab": {
          "base_uri": "https://localhost:8080/"
        },
        "id": "SdHk-Qfqh4uN",
        "outputId": "e07d8c13-d7a5-486e-9147-d74aa679ab00"
      },
      "source": [
        "type(pro_prevod)"
      ],
      "execution_count": 14,
      "outputs": [
        {
          "output_type": "execute_result",
          "data": {
            "text/plain": [
              "str"
            ]
          },
          "metadata": {},
          "execution_count": 14
        }
      ]
    },
    {
      "cell_type": "code",
      "metadata": {
        "colab": {
          "base_uri": "https://localhost:8080/"
        },
        "id": "QuBWkBV5iDJ2",
        "outputId": "19a69ea3-28b9-4f94-a99e-b223113322c1"
      },
      "source": [
        "help(str)"
      ],
      "execution_count": 15,
      "outputs": [
        {
          "output_type": "stream",
          "name": "stdout",
          "text": [
            "Help on class str in module builtins:\n",
            "\n",
            "class str(object)\n",
            " |  str(object='') -> str\n",
            " |  str(bytes_or_buffer[, encoding[, errors]]) -> str\n",
            " |  \n",
            " |  Create a new string object from the given object. If encoding or\n",
            " |  errors is specified, then the object must expose a data buffer\n",
            " |  that will be decoded using the given encoding and error handler.\n",
            " |  Otherwise, returns the result of object.__str__() (if defined)\n",
            " |  or repr(object).\n",
            " |  encoding defaults to sys.getdefaultencoding().\n",
            " |  errors defaults to 'strict'.\n",
            " |  \n",
            " |  Methods defined here:\n",
            " |  \n",
            " |  __add__(self, value, /)\n",
            " |      Return self+value.\n",
            " |  \n",
            " |  __contains__(self, key, /)\n",
            " |      Return key in self.\n",
            " |  \n",
            " |  __eq__(self, value, /)\n",
            " |      Return self==value.\n",
            " |  \n",
            " |  __format__(self, format_spec, /)\n",
            " |      Return a formatted version of the string as described by format_spec.\n",
            " |  \n",
            " |  __ge__(self, value, /)\n",
            " |      Return self>=value.\n",
            " |  \n",
            " |  __getattribute__(self, name, /)\n",
            " |      Return getattr(self, name).\n",
            " |  \n",
            " |  __getitem__(self, key, /)\n",
            " |      Return self[key].\n",
            " |  \n",
            " |  __getnewargs__(...)\n",
            " |  \n",
            " |  __gt__(self, value, /)\n",
            " |      Return self>value.\n",
            " |  \n",
            " |  __hash__(self, /)\n",
            " |      Return hash(self).\n",
            " |  \n",
            " |  __iter__(self, /)\n",
            " |      Implement iter(self).\n",
            " |  \n",
            " |  __le__(self, value, /)\n",
            " |      Return self<=value.\n",
            " |  \n",
            " |  __len__(self, /)\n",
            " |      Return len(self).\n",
            " |  \n",
            " |  __lt__(self, value, /)\n",
            " |      Return self<value.\n",
            " |  \n",
            " |  __mod__(self, value, /)\n",
            " |      Return self%value.\n",
            " |  \n",
            " |  __mul__(self, value, /)\n",
            " |      Return self*value.\n",
            " |  \n",
            " |  __ne__(self, value, /)\n",
            " |      Return self!=value.\n",
            " |  \n",
            " |  __repr__(self, /)\n",
            " |      Return repr(self).\n",
            " |  \n",
            " |  __rmod__(self, value, /)\n",
            " |      Return value%self.\n",
            " |  \n",
            " |  __rmul__(self, value, /)\n",
            " |      Return value*self.\n",
            " |  \n",
            " |  __sizeof__(self, /)\n",
            " |      Return the size of the string in memory, in bytes.\n",
            " |  \n",
            " |  __str__(self, /)\n",
            " |      Return str(self).\n",
            " |  \n",
            " |  capitalize(self, /)\n",
            " |      Return a capitalized version of the string.\n",
            " |      \n",
            " |      More specifically, make the first character have upper case and the rest lower\n",
            " |      case.\n",
            " |  \n",
            " |  casefold(self, /)\n",
            " |      Return a version of the string suitable for caseless comparisons.\n",
            " |  \n",
            " |  center(self, width, fillchar=' ', /)\n",
            " |      Return a centered string of length width.\n",
            " |      \n",
            " |      Padding is done using the specified fill character (default is a space).\n",
            " |  \n",
            " |  count(...)\n",
            " |      S.count(sub[, start[, end]]) -> int\n",
            " |      \n",
            " |      Return the number of non-overlapping occurrences of substring sub in\n",
            " |      string S[start:end].  Optional arguments start and end are\n",
            " |      interpreted as in slice notation.\n",
            " |  \n",
            " |  encode(self, /, encoding='utf-8', errors='strict')\n",
            " |      Encode the string using the codec registered for encoding.\n",
            " |      \n",
            " |      encoding\n",
            " |        The encoding in which to encode the string.\n",
            " |      errors\n",
            " |        The error handling scheme to use for encoding errors.\n",
            " |        The default is 'strict' meaning that encoding errors raise a\n",
            " |        UnicodeEncodeError.  Other possible values are 'ignore', 'replace' and\n",
            " |        'xmlcharrefreplace' as well as any other name registered with\n",
            " |        codecs.register_error that can handle UnicodeEncodeErrors.\n",
            " |  \n",
            " |  endswith(...)\n",
            " |      S.endswith(suffix[, start[, end]]) -> bool\n",
            " |      \n",
            " |      Return True if S ends with the specified suffix, False otherwise.\n",
            " |      With optional start, test S beginning at that position.\n",
            " |      With optional end, stop comparing S at that position.\n",
            " |      suffix can also be a tuple of strings to try.\n",
            " |  \n",
            " |  expandtabs(self, /, tabsize=8)\n",
            " |      Return a copy where all tab characters are expanded using spaces.\n",
            " |      \n",
            " |      If tabsize is not given, a tab size of 8 characters is assumed.\n",
            " |  \n",
            " |  find(...)\n",
            " |      S.find(sub[, start[, end]]) -> int\n",
            " |      \n",
            " |      Return the lowest index in S where substring sub is found,\n",
            " |      such that sub is contained within S[start:end].  Optional\n",
            " |      arguments start and end are interpreted as in slice notation.\n",
            " |      \n",
            " |      Return -1 on failure.\n",
            " |  \n",
            " |  format(...)\n",
            " |      S.format(*args, **kwargs) -> str\n",
            " |      \n",
            " |      Return a formatted version of S, using substitutions from args and kwargs.\n",
            " |      The substitutions are identified by braces ('{' and '}').\n",
            " |  \n",
            " |  format_map(...)\n",
            " |      S.format_map(mapping) -> str\n",
            " |      \n",
            " |      Return a formatted version of S, using substitutions from mapping.\n",
            " |      The substitutions are identified by braces ('{' and '}').\n",
            " |  \n",
            " |  index(...)\n",
            " |      S.index(sub[, start[, end]]) -> int\n",
            " |      \n",
            " |      Return the lowest index in S where substring sub is found, \n",
            " |      such that sub is contained within S[start:end].  Optional\n",
            " |      arguments start and end are interpreted as in slice notation.\n",
            " |      \n",
            " |      Raises ValueError when the substring is not found.\n",
            " |  \n",
            " |  isalnum(self, /)\n",
            " |      Return True if the string is an alpha-numeric string, False otherwise.\n",
            " |      \n",
            " |      A string is alpha-numeric if all characters in the string are alpha-numeric and\n",
            " |      there is at least one character in the string.\n",
            " |  \n",
            " |  isalpha(self, /)\n",
            " |      Return True if the string is an alphabetic string, False otherwise.\n",
            " |      \n",
            " |      A string is alphabetic if all characters in the string are alphabetic and there\n",
            " |      is at least one character in the string.\n",
            " |  \n",
            " |  isascii(self, /)\n",
            " |      Return True if all characters in the string are ASCII, False otherwise.\n",
            " |      \n",
            " |      ASCII characters have code points in the range U+0000-U+007F.\n",
            " |      Empty string is ASCII too.\n",
            " |  \n",
            " |  isdecimal(self, /)\n",
            " |      Return True if the string is a decimal string, False otherwise.\n",
            " |      \n",
            " |      A string is a decimal string if all characters in the string are decimal and\n",
            " |      there is at least one character in the string.\n",
            " |  \n",
            " |  isdigit(self, /)\n",
            " |      Return True if the string is a digit string, False otherwise.\n",
            " |      \n",
            " |      A string is a digit string if all characters in the string are digits and there\n",
            " |      is at least one character in the string.\n",
            " |  \n",
            " |  isidentifier(self, /)\n",
            " |      Return True if the string is a valid Python identifier, False otherwise.\n",
            " |      \n",
            " |      Use keyword.iskeyword() to test for reserved identifiers such as \"def\" and\n",
            " |      \"class\".\n",
            " |  \n",
            " |  islower(self, /)\n",
            " |      Return True if the string is a lowercase string, False otherwise.\n",
            " |      \n",
            " |      A string is lowercase if all cased characters in the string are lowercase and\n",
            " |      there is at least one cased character in the string.\n",
            " |  \n",
            " |  isnumeric(self, /)\n",
            " |      Return True if the string is a numeric string, False otherwise.\n",
            " |      \n",
            " |      A string is numeric if all characters in the string are numeric and there is at\n",
            " |      least one character in the string.\n",
            " |  \n",
            " |  isprintable(self, /)\n",
            " |      Return True if the string is printable, False otherwise.\n",
            " |      \n",
            " |      A string is printable if all of its characters are considered printable in\n",
            " |      repr() or if it is empty.\n",
            " |  \n",
            " |  isspace(self, /)\n",
            " |      Return True if the string is a whitespace string, False otherwise.\n",
            " |      \n",
            " |      A string is whitespace if all characters in the string are whitespace and there\n",
            " |      is at least one character in the string.\n",
            " |  \n",
            " |  istitle(self, /)\n",
            " |      Return True if the string is a title-cased string, False otherwise.\n",
            " |      \n",
            " |      In a title-cased string, upper- and title-case characters may only\n",
            " |      follow uncased characters and lowercase characters only cased ones.\n",
            " |  \n",
            " |  isupper(self, /)\n",
            " |      Return True if the string is an uppercase string, False otherwise.\n",
            " |      \n",
            " |      A string is uppercase if all cased characters in the string are uppercase and\n",
            " |      there is at least one cased character in the string.\n",
            " |  \n",
            " |  join(self, iterable, /)\n",
            " |      Concatenate any number of strings.\n",
            " |      \n",
            " |      The string whose method is called is inserted in between each given string.\n",
            " |      The result is returned as a new string.\n",
            " |      \n",
            " |      Example: '.'.join(['ab', 'pq', 'rs']) -> 'ab.pq.rs'\n",
            " |  \n",
            " |  ljust(self, width, fillchar=' ', /)\n",
            " |      Return a left-justified string of length width.\n",
            " |      \n",
            " |      Padding is done using the specified fill character (default is a space).\n",
            " |  \n",
            " |  lower(self, /)\n",
            " |      Return a copy of the string converted to lowercase.\n",
            " |  \n",
            " |  lstrip(self, chars=None, /)\n",
            " |      Return a copy of the string with leading whitespace removed.\n",
            " |      \n",
            " |      If chars is given and not None, remove characters in chars instead.\n",
            " |  \n",
            " |  partition(self, sep, /)\n",
            " |      Partition the string into three parts using the given separator.\n",
            " |      \n",
            " |      This will search for the separator in the string.  If the separator is found,\n",
            " |      returns a 3-tuple containing the part before the separator, the separator\n",
            " |      itself, and the part after it.\n",
            " |      \n",
            " |      If the separator is not found, returns a 3-tuple containing the original string\n",
            " |      and two empty strings.\n",
            " |  \n",
            " |  replace(self, old, new, count=-1, /)\n",
            " |      Return a copy with all occurrences of substring old replaced by new.\n",
            " |      \n",
            " |        count\n",
            " |          Maximum number of occurrences to replace.\n",
            " |          -1 (the default value) means replace all occurrences.\n",
            " |      \n",
            " |      If the optional argument count is given, only the first count occurrences are\n",
            " |      replaced.\n",
            " |  \n",
            " |  rfind(...)\n",
            " |      S.rfind(sub[, start[, end]]) -> int\n",
            " |      \n",
            " |      Return the highest index in S where substring sub is found,\n",
            " |      such that sub is contained within S[start:end].  Optional\n",
            " |      arguments start and end are interpreted as in slice notation.\n",
            " |      \n",
            " |      Return -1 on failure.\n",
            " |  \n",
            " |  rindex(...)\n",
            " |      S.rindex(sub[, start[, end]]) -> int\n",
            " |      \n",
            " |      Return the highest index in S where substring sub is found,\n",
            " |      such that sub is contained within S[start:end].  Optional\n",
            " |      arguments start and end are interpreted as in slice notation.\n",
            " |      \n",
            " |      Raises ValueError when the substring is not found.\n",
            " |  \n",
            " |  rjust(self, width, fillchar=' ', /)\n",
            " |      Return a right-justified string of length width.\n",
            " |      \n",
            " |      Padding is done using the specified fill character (default is a space).\n",
            " |  \n",
            " |  rpartition(self, sep, /)\n",
            " |      Partition the string into three parts using the given separator.\n",
            " |      \n",
            " |      This will search for the separator in the string, starting at the end. If\n",
            " |      the separator is found, returns a 3-tuple containing the part before the\n",
            " |      separator, the separator itself, and the part after it.\n",
            " |      \n",
            " |      If the separator is not found, returns a 3-tuple containing two empty strings\n",
            " |      and the original string.\n",
            " |  \n",
            " |  rsplit(self, /, sep=None, maxsplit=-1)\n",
            " |      Return a list of the words in the string, using sep as the delimiter string.\n",
            " |      \n",
            " |        sep\n",
            " |          The delimiter according which to split the string.\n",
            " |          None (the default value) means split according to any whitespace,\n",
            " |          and discard empty strings from the result.\n",
            " |        maxsplit\n",
            " |          Maximum number of splits to do.\n",
            " |          -1 (the default value) means no limit.\n",
            " |      \n",
            " |      Splits are done starting at the end of the string and working to the front.\n",
            " |  \n",
            " |  rstrip(self, chars=None, /)\n",
            " |      Return a copy of the string with trailing whitespace removed.\n",
            " |      \n",
            " |      If chars is given and not None, remove characters in chars instead.\n",
            " |  \n",
            " |  split(self, /, sep=None, maxsplit=-1)\n",
            " |      Return a list of the words in the string, using sep as the delimiter string.\n",
            " |      \n",
            " |      sep\n",
            " |        The delimiter according which to split the string.\n",
            " |        None (the default value) means split according to any whitespace,\n",
            " |        and discard empty strings from the result.\n",
            " |      maxsplit\n",
            " |        Maximum number of splits to do.\n",
            " |        -1 (the default value) means no limit.\n",
            " |  \n",
            " |  splitlines(self, /, keepends=False)\n",
            " |      Return a list of the lines in the string, breaking at line boundaries.\n",
            " |      \n",
            " |      Line breaks are not included in the resulting list unless keepends is given and\n",
            " |      true.\n",
            " |  \n",
            " |  startswith(...)\n",
            " |      S.startswith(prefix[, start[, end]]) -> bool\n",
            " |      \n",
            " |      Return True if S starts with the specified prefix, False otherwise.\n",
            " |      With optional start, test S beginning at that position.\n",
            " |      With optional end, stop comparing S at that position.\n",
            " |      prefix can also be a tuple of strings to try.\n",
            " |  \n",
            " |  strip(self, chars=None, /)\n",
            " |      Return a copy of the string with leading and trailing whitespace removed.\n",
            " |      \n",
            " |      If chars is given and not None, remove characters in chars instead.\n",
            " |  \n",
            " |  swapcase(self, /)\n",
            " |      Convert uppercase characters to lowercase and lowercase characters to uppercase.\n",
            " |  \n",
            " |  title(self, /)\n",
            " |      Return a version of the string where each word is titlecased.\n",
            " |      \n",
            " |      More specifically, words start with uppercased characters and all remaining\n",
            " |      cased characters have lower case.\n",
            " |  \n",
            " |  translate(self, table, /)\n",
            " |      Replace each character in the string using the given translation table.\n",
            " |      \n",
            " |        table\n",
            " |          Translation table, which must be a mapping of Unicode ordinals to\n",
            " |          Unicode ordinals, strings, or None.\n",
            " |      \n",
            " |      The table must implement lookup/indexing via __getitem__, for instance a\n",
            " |      dictionary or list.  If this operation raises LookupError, the character is\n",
            " |      left untouched.  Characters mapped to None are deleted.\n",
            " |  \n",
            " |  upper(self, /)\n",
            " |      Return a copy of the string converted to uppercase.\n",
            " |  \n",
            " |  zfill(self, width, /)\n",
            " |      Pad a numeric string with zeros on the left, to fill a field of the given width.\n",
            " |      \n",
            " |      The string is never truncated.\n",
            " |  \n",
            " |  ----------------------------------------------------------------------\n",
            " |  Static methods defined here:\n",
            " |  \n",
            " |  __new__(*args, **kwargs) from builtins.type\n",
            " |      Create and return a new object.  See help(type) for accurate signature.\n",
            " |  \n",
            " |  maketrans(x, y=None, z=None, /)\n",
            " |      Return a translation table usable for str.translate().\n",
            " |      \n",
            " |      If there is only one argument, it must be a dictionary mapping Unicode\n",
            " |      ordinals (integers) or characters to Unicode ordinals, strings or None.\n",
            " |      Character keys will be then converted to ordinals.\n",
            " |      If there are two arguments, they must be strings of equal length, and\n",
            " |      in the resulting dictionary, each character in x will be mapped to the\n",
            " |      character at the same position in y. If there is a third argument, it\n",
            " |      must be a string, whose characters will be mapped to None in the result.\n",
            "\n"
          ]
        }
      ]
    },
    {
      "cell_type": "code",
      "metadata": {
        "colab": {
          "base_uri": "https://localhost:8080/"
        },
        "id": "PgriHw1Uiwcp",
        "outputId": "6770c87d-0683-415a-c696-04ff50f4ba8e"
      },
      "source": [
        "#strat:stop:step\n",
        "print(pro_prevod[0] + pro_prevod[2:])"
      ],
      "execution_count": 22,
      "outputs": [
        {
          "output_type": "stream",
          "name": "stdout",
          "text": [
            "01110011\n"
          ]
        }
      ]
    },
    {
      "cell_type": "code",
      "metadata": {
        "id": "F1MI3zAgithG"
      },
      "source": [
        "pro_prevod = "
      ],
      "execution_count": null,
      "outputs": []
    },
    {
      "cell_type": "code",
      "metadata": {
        "colab": {
          "base_uri": "https://localhost:8080/",
          "height": 35
        },
        "id": "Nux10b2sijK6",
        "outputId": "3d7943c8-772a-4878-a21d-137afff91630"
      },
      "source": [
        "pro_prevod.replace(\"b\",\"\")"
      ],
      "execution_count": 17,
      "outputs": [
        {
          "output_type": "execute_result",
          "data": {
            "application/vnd.google.colaboratory.intrinsic+json": {
              "type": "string"
            },
            "text/plain": [
              "'01110011'"
            ]
          },
          "metadata": {},
          "execution_count": 17
        }
      ]
    },
    {
      "cell_type": "code",
      "metadata": {
        "id": "eOrveB5ukxWd"
      },
      "source": [
        "import string #potrebuji dalsi knihovnu"
      ],
      "execution_count": 27,
      "outputs": []
    },
    {
      "cell_type": "code",
      "metadata": {
        "id": "hqjtOHgVlA5r"
      },
      "source": [
        "znaky = string.ascii_letters + string.digits + string.punctuation + string.whitespace"
      ],
      "execution_count": 32,
      "outputs": []
    },
    {
      "cell_type": "code",
      "metadata": {
        "colab": {
          "base_uri": "https://localhost:8080/"
        },
        "id": "00peGWO7l5zO",
        "outputId": "a9a48785-78e9-44f4-e1cf-0f5e89d42254"
      },
      "source": [
        "for znak in znaky:\n",
        "  cislo = ord(znak)\n",
        "  binarka = bin(cislo).replace(\"b\",\"\")\n",
        "  print(f\"Danny znak: |{znak}| ma v binarce hodnotu: |{binarka}|, v dekadicke hodnota: |{cislo}|\")"
      ],
      "execution_count": 33,
      "outputs": [
        {
          "output_type": "stream",
          "name": "stdout",
          "text": [
            "Danny znak: |a| ma v binarce hodnotu: |01100001|, v dekadicke hodnota: |97|\n",
            "Danny znak: |b| ma v binarce hodnotu: |01100010|, v dekadicke hodnota: |98|\n",
            "Danny znak: |c| ma v binarce hodnotu: |01100011|, v dekadicke hodnota: |99|\n",
            "Danny znak: |d| ma v binarce hodnotu: |01100100|, v dekadicke hodnota: |100|\n",
            "Danny znak: |e| ma v binarce hodnotu: |01100101|, v dekadicke hodnota: |101|\n",
            "Danny znak: |f| ma v binarce hodnotu: |01100110|, v dekadicke hodnota: |102|\n",
            "Danny znak: |g| ma v binarce hodnotu: |01100111|, v dekadicke hodnota: |103|\n",
            "Danny znak: |h| ma v binarce hodnotu: |01101000|, v dekadicke hodnota: |104|\n",
            "Danny znak: |i| ma v binarce hodnotu: |01101001|, v dekadicke hodnota: |105|\n",
            "Danny znak: |j| ma v binarce hodnotu: |01101010|, v dekadicke hodnota: |106|\n",
            "Danny znak: |k| ma v binarce hodnotu: |01101011|, v dekadicke hodnota: |107|\n",
            "Danny znak: |l| ma v binarce hodnotu: |01101100|, v dekadicke hodnota: |108|\n",
            "Danny znak: |m| ma v binarce hodnotu: |01101101|, v dekadicke hodnota: |109|\n",
            "Danny znak: |n| ma v binarce hodnotu: |01101110|, v dekadicke hodnota: |110|\n",
            "Danny znak: |o| ma v binarce hodnotu: |01101111|, v dekadicke hodnota: |111|\n",
            "Danny znak: |p| ma v binarce hodnotu: |01110000|, v dekadicke hodnota: |112|\n",
            "Danny znak: |q| ma v binarce hodnotu: |01110001|, v dekadicke hodnota: |113|\n",
            "Danny znak: |r| ma v binarce hodnotu: |01110010|, v dekadicke hodnota: |114|\n",
            "Danny znak: |s| ma v binarce hodnotu: |01110011|, v dekadicke hodnota: |115|\n",
            "Danny znak: |t| ma v binarce hodnotu: |01110100|, v dekadicke hodnota: |116|\n",
            "Danny znak: |u| ma v binarce hodnotu: |01110101|, v dekadicke hodnota: |117|\n",
            "Danny znak: |v| ma v binarce hodnotu: |01110110|, v dekadicke hodnota: |118|\n",
            "Danny znak: |w| ma v binarce hodnotu: |01110111|, v dekadicke hodnota: |119|\n",
            "Danny znak: |x| ma v binarce hodnotu: |01111000|, v dekadicke hodnota: |120|\n",
            "Danny znak: |y| ma v binarce hodnotu: |01111001|, v dekadicke hodnota: |121|\n",
            "Danny znak: |z| ma v binarce hodnotu: |01111010|, v dekadicke hodnota: |122|\n",
            "Danny znak: |A| ma v binarce hodnotu: |01000001|, v dekadicke hodnota: |65|\n",
            "Danny znak: |B| ma v binarce hodnotu: |01000010|, v dekadicke hodnota: |66|\n",
            "Danny znak: |C| ma v binarce hodnotu: |01000011|, v dekadicke hodnota: |67|\n",
            "Danny znak: |D| ma v binarce hodnotu: |01000100|, v dekadicke hodnota: |68|\n",
            "Danny znak: |E| ma v binarce hodnotu: |01000101|, v dekadicke hodnota: |69|\n",
            "Danny znak: |F| ma v binarce hodnotu: |01000110|, v dekadicke hodnota: |70|\n",
            "Danny znak: |G| ma v binarce hodnotu: |01000111|, v dekadicke hodnota: |71|\n",
            "Danny znak: |H| ma v binarce hodnotu: |01001000|, v dekadicke hodnota: |72|\n",
            "Danny znak: |I| ma v binarce hodnotu: |01001001|, v dekadicke hodnota: |73|\n",
            "Danny znak: |J| ma v binarce hodnotu: |01001010|, v dekadicke hodnota: |74|\n",
            "Danny znak: |K| ma v binarce hodnotu: |01001011|, v dekadicke hodnota: |75|\n",
            "Danny znak: |L| ma v binarce hodnotu: |01001100|, v dekadicke hodnota: |76|\n",
            "Danny znak: |M| ma v binarce hodnotu: |01001101|, v dekadicke hodnota: |77|\n",
            "Danny znak: |N| ma v binarce hodnotu: |01001110|, v dekadicke hodnota: |78|\n",
            "Danny znak: |O| ma v binarce hodnotu: |01001111|, v dekadicke hodnota: |79|\n",
            "Danny znak: |P| ma v binarce hodnotu: |01010000|, v dekadicke hodnota: |80|\n",
            "Danny znak: |Q| ma v binarce hodnotu: |01010001|, v dekadicke hodnota: |81|\n",
            "Danny znak: |R| ma v binarce hodnotu: |01010010|, v dekadicke hodnota: |82|\n",
            "Danny znak: |S| ma v binarce hodnotu: |01010011|, v dekadicke hodnota: |83|\n",
            "Danny znak: |T| ma v binarce hodnotu: |01010100|, v dekadicke hodnota: |84|\n",
            "Danny znak: |U| ma v binarce hodnotu: |01010101|, v dekadicke hodnota: |85|\n",
            "Danny znak: |V| ma v binarce hodnotu: |01010110|, v dekadicke hodnota: |86|\n",
            "Danny znak: |W| ma v binarce hodnotu: |01010111|, v dekadicke hodnota: |87|\n",
            "Danny znak: |X| ma v binarce hodnotu: |01011000|, v dekadicke hodnota: |88|\n",
            "Danny znak: |Y| ma v binarce hodnotu: |01011001|, v dekadicke hodnota: |89|\n",
            "Danny znak: |Z| ma v binarce hodnotu: |01011010|, v dekadicke hodnota: |90|\n",
            "Danny znak: |0| ma v binarce hodnotu: |0110000|, v dekadicke hodnota: |48|\n",
            "Danny znak: |1| ma v binarce hodnotu: |0110001|, v dekadicke hodnota: |49|\n",
            "Danny znak: |2| ma v binarce hodnotu: |0110010|, v dekadicke hodnota: |50|\n",
            "Danny znak: |3| ma v binarce hodnotu: |0110011|, v dekadicke hodnota: |51|\n",
            "Danny znak: |4| ma v binarce hodnotu: |0110100|, v dekadicke hodnota: |52|\n",
            "Danny znak: |5| ma v binarce hodnotu: |0110101|, v dekadicke hodnota: |53|\n",
            "Danny znak: |6| ma v binarce hodnotu: |0110110|, v dekadicke hodnota: |54|\n",
            "Danny znak: |7| ma v binarce hodnotu: |0110111|, v dekadicke hodnota: |55|\n",
            "Danny znak: |8| ma v binarce hodnotu: |0111000|, v dekadicke hodnota: |56|\n",
            "Danny znak: |9| ma v binarce hodnotu: |0111001|, v dekadicke hodnota: |57|\n",
            "Danny znak: |!| ma v binarce hodnotu: |0100001|, v dekadicke hodnota: |33|\n",
            "Danny znak: |\"| ma v binarce hodnotu: |0100010|, v dekadicke hodnota: |34|\n",
            "Danny znak: |#| ma v binarce hodnotu: |0100011|, v dekadicke hodnota: |35|\n",
            "Danny znak: |$| ma v binarce hodnotu: |0100100|, v dekadicke hodnota: |36|\n",
            "Danny znak: |%| ma v binarce hodnotu: |0100101|, v dekadicke hodnota: |37|\n",
            "Danny znak: |&| ma v binarce hodnotu: |0100110|, v dekadicke hodnota: |38|\n",
            "Danny znak: |'| ma v binarce hodnotu: |0100111|, v dekadicke hodnota: |39|\n",
            "Danny znak: |(| ma v binarce hodnotu: |0101000|, v dekadicke hodnota: |40|\n",
            "Danny znak: |)| ma v binarce hodnotu: |0101001|, v dekadicke hodnota: |41|\n",
            "Danny znak: |*| ma v binarce hodnotu: |0101010|, v dekadicke hodnota: |42|\n",
            "Danny znak: |+| ma v binarce hodnotu: |0101011|, v dekadicke hodnota: |43|\n",
            "Danny znak: |,| ma v binarce hodnotu: |0101100|, v dekadicke hodnota: |44|\n",
            "Danny znak: |-| ma v binarce hodnotu: |0101101|, v dekadicke hodnota: |45|\n",
            "Danny znak: |.| ma v binarce hodnotu: |0101110|, v dekadicke hodnota: |46|\n",
            "Danny znak: |/| ma v binarce hodnotu: |0101111|, v dekadicke hodnota: |47|\n",
            "Danny znak: |:| ma v binarce hodnotu: |0111010|, v dekadicke hodnota: |58|\n",
            "Danny znak: |;| ma v binarce hodnotu: |0111011|, v dekadicke hodnota: |59|\n",
            "Danny znak: |<| ma v binarce hodnotu: |0111100|, v dekadicke hodnota: |60|\n",
            "Danny znak: |=| ma v binarce hodnotu: |0111101|, v dekadicke hodnota: |61|\n",
            "Danny znak: |>| ma v binarce hodnotu: |0111110|, v dekadicke hodnota: |62|\n",
            "Danny znak: |?| ma v binarce hodnotu: |0111111|, v dekadicke hodnota: |63|\n",
            "Danny znak: |@| ma v binarce hodnotu: |01000000|, v dekadicke hodnota: |64|\n",
            "Danny znak: |[| ma v binarce hodnotu: |01011011|, v dekadicke hodnota: |91|\n",
            "Danny znak: |\\| ma v binarce hodnotu: |01011100|, v dekadicke hodnota: |92|\n",
            "Danny znak: |]| ma v binarce hodnotu: |01011101|, v dekadicke hodnota: |93|\n",
            "Danny znak: |^| ma v binarce hodnotu: |01011110|, v dekadicke hodnota: |94|\n",
            "Danny znak: |_| ma v binarce hodnotu: |01011111|, v dekadicke hodnota: |95|\n",
            "Danny znak: |`| ma v binarce hodnotu: |01100000|, v dekadicke hodnota: |96|\n",
            "Danny znak: |{| ma v binarce hodnotu: |01111011|, v dekadicke hodnota: |123|\n",
            "Danny znak: ||| ma v binarce hodnotu: |01111100|, v dekadicke hodnota: |124|\n",
            "Danny znak: |}| ma v binarce hodnotu: |01111101|, v dekadicke hodnota: |125|\n",
            "Danny znak: |~| ma v binarce hodnotu: |01111110|, v dekadicke hodnota: |126|\n",
            "Danny znak: | | ma v binarce hodnotu: |0100000|, v dekadicke hodnota: |32|\n",
            "Danny znak: |\t| ma v binarce hodnotu: |01001|, v dekadicke hodnota: |9|\n",
            "Danny znak: |\n",
            "| ma v binarce hodnotu: |01010|, v dekadicke hodnota: |10|\n",
            "Danny znak: |\r| ma v binarce hodnotu: |01101|, v dekadicke hodnota: |13|\n",
            "Danny znak: |\u000b| ma v binarce hodnotu: |01011|, v dekadicke hodnota: |11|\n",
            "Danny znak: |\f| ma v binarce hodnotu: |01100|, v dekadicke hodnota: |12|\n"
          ]
        }
      ]
    },
    {
      "cell_type": "code",
      "metadata": {
        "colab": {
          "base_uri": "https://localhost:8080/"
        },
        "id": "nxMMIvmujiz_",
        "outputId": "544d5f22-7689-4892-97e6-8210bea26173"
      },
      "source": [
        "znak = input(\"Zadej znak pro prevod do binarky: \")\n",
        "cislo = ord(znak)\n",
        "binarka = bin(cislo).replace(\"b\",\"\")\n",
        "print(f\"Danny znak: |{znak}| ma v binarce hodnotu: |{binarka}|, v dekadicke hodnota: |{cislo}|\")"
      ],
      "execution_count": 26,
      "outputs": [
        {
          "output_type": "stream",
          "name": "stdout",
          "text": [
            "Zadej znak pro prevod do binarky: a\n",
            "Danny znak: |a| ma v binarce hodnotu: |01100001|, v dekadicke hodnota: |97|\n"
          ]
        }
      ]
    },
    {
      "cell_type": "code",
      "metadata": {
        "id": "LGIMe0vRm6Od"
      },
      "source": [
        "[[\"Jmeno\", \"Prijemni\"], \n",
        " [\"Jakub\", \"Valenta\"]]"
      ],
      "execution_count": null,
      "outputs": []
    },
    {
      "cell_type": "code",
      "metadata": {
        "colab": {
          "base_uri": "https://localhost:8080/"
        },
        "id": "35EI-k93mxXX",
        "outputId": "4b60886c-fcb6-46db-9628-d95a47b58ae1"
      },
      "source": [
        "import string \n",
        "import csv\n",
        "znaky = string.ascii_letters + string.digits + string.punctuation + string.whitespace\n",
        "tabulka = [[\"Znak\", \"dekadicka_podoba\", \"binarka\"]] #Tabulka s jednim listem pro pojmenovani sloupcu\n",
        "for znak in znaky:\n",
        "  cislo = ord(znak) #ynak prevedu na cislo\n",
        "  binarka = bin(cislo).replace(\"b\",\"\") #prevedu cislo na binarku a odemeru b\n",
        "  tabulka.append([znak,cislo, binarka]) #pridam do tabulky novy list , ktery ma taky 3 sloupce.\n",
        "  print(f\"Danny znak: |{znak}| ma v binarce hodnotu: |{binarka}|, v dekadicke hodnota: |{cislo}|\")"
      ],
      "execution_count": 37,
      "outputs": [
        {
          "output_type": "stream",
          "name": "stdout",
          "text": [
            "Danny znak: |a| ma v binarce hodnotu: |01100001|, v dekadicke hodnota: |97|\n",
            "Danny znak: |b| ma v binarce hodnotu: |01100010|, v dekadicke hodnota: |98|\n",
            "Danny znak: |c| ma v binarce hodnotu: |01100011|, v dekadicke hodnota: |99|\n",
            "Danny znak: |d| ma v binarce hodnotu: |01100100|, v dekadicke hodnota: |100|\n",
            "Danny znak: |e| ma v binarce hodnotu: |01100101|, v dekadicke hodnota: |101|\n",
            "Danny znak: |f| ma v binarce hodnotu: |01100110|, v dekadicke hodnota: |102|\n",
            "Danny znak: |g| ma v binarce hodnotu: |01100111|, v dekadicke hodnota: |103|\n",
            "Danny znak: |h| ma v binarce hodnotu: |01101000|, v dekadicke hodnota: |104|\n",
            "Danny znak: |i| ma v binarce hodnotu: |01101001|, v dekadicke hodnota: |105|\n",
            "Danny znak: |j| ma v binarce hodnotu: |01101010|, v dekadicke hodnota: |106|\n",
            "Danny znak: |k| ma v binarce hodnotu: |01101011|, v dekadicke hodnota: |107|\n",
            "Danny znak: |l| ma v binarce hodnotu: |01101100|, v dekadicke hodnota: |108|\n",
            "Danny znak: |m| ma v binarce hodnotu: |01101101|, v dekadicke hodnota: |109|\n",
            "Danny znak: |n| ma v binarce hodnotu: |01101110|, v dekadicke hodnota: |110|\n",
            "Danny znak: |o| ma v binarce hodnotu: |01101111|, v dekadicke hodnota: |111|\n",
            "Danny znak: |p| ma v binarce hodnotu: |01110000|, v dekadicke hodnota: |112|\n",
            "Danny znak: |q| ma v binarce hodnotu: |01110001|, v dekadicke hodnota: |113|\n",
            "Danny znak: |r| ma v binarce hodnotu: |01110010|, v dekadicke hodnota: |114|\n",
            "Danny znak: |s| ma v binarce hodnotu: |01110011|, v dekadicke hodnota: |115|\n",
            "Danny znak: |t| ma v binarce hodnotu: |01110100|, v dekadicke hodnota: |116|\n",
            "Danny znak: |u| ma v binarce hodnotu: |01110101|, v dekadicke hodnota: |117|\n",
            "Danny znak: |v| ma v binarce hodnotu: |01110110|, v dekadicke hodnota: |118|\n",
            "Danny znak: |w| ma v binarce hodnotu: |01110111|, v dekadicke hodnota: |119|\n",
            "Danny znak: |x| ma v binarce hodnotu: |01111000|, v dekadicke hodnota: |120|\n",
            "Danny znak: |y| ma v binarce hodnotu: |01111001|, v dekadicke hodnota: |121|\n",
            "Danny znak: |z| ma v binarce hodnotu: |01111010|, v dekadicke hodnota: |122|\n",
            "Danny znak: |A| ma v binarce hodnotu: |01000001|, v dekadicke hodnota: |65|\n",
            "Danny znak: |B| ma v binarce hodnotu: |01000010|, v dekadicke hodnota: |66|\n",
            "Danny znak: |C| ma v binarce hodnotu: |01000011|, v dekadicke hodnota: |67|\n",
            "Danny znak: |D| ma v binarce hodnotu: |01000100|, v dekadicke hodnota: |68|\n",
            "Danny znak: |E| ma v binarce hodnotu: |01000101|, v dekadicke hodnota: |69|\n",
            "Danny znak: |F| ma v binarce hodnotu: |01000110|, v dekadicke hodnota: |70|\n",
            "Danny znak: |G| ma v binarce hodnotu: |01000111|, v dekadicke hodnota: |71|\n",
            "Danny znak: |H| ma v binarce hodnotu: |01001000|, v dekadicke hodnota: |72|\n",
            "Danny znak: |I| ma v binarce hodnotu: |01001001|, v dekadicke hodnota: |73|\n",
            "Danny znak: |J| ma v binarce hodnotu: |01001010|, v dekadicke hodnota: |74|\n",
            "Danny znak: |K| ma v binarce hodnotu: |01001011|, v dekadicke hodnota: |75|\n",
            "Danny znak: |L| ma v binarce hodnotu: |01001100|, v dekadicke hodnota: |76|\n",
            "Danny znak: |M| ma v binarce hodnotu: |01001101|, v dekadicke hodnota: |77|\n",
            "Danny znak: |N| ma v binarce hodnotu: |01001110|, v dekadicke hodnota: |78|\n",
            "Danny znak: |O| ma v binarce hodnotu: |01001111|, v dekadicke hodnota: |79|\n",
            "Danny znak: |P| ma v binarce hodnotu: |01010000|, v dekadicke hodnota: |80|\n",
            "Danny znak: |Q| ma v binarce hodnotu: |01010001|, v dekadicke hodnota: |81|\n",
            "Danny znak: |R| ma v binarce hodnotu: |01010010|, v dekadicke hodnota: |82|\n",
            "Danny znak: |S| ma v binarce hodnotu: |01010011|, v dekadicke hodnota: |83|\n",
            "Danny znak: |T| ma v binarce hodnotu: |01010100|, v dekadicke hodnota: |84|\n",
            "Danny znak: |U| ma v binarce hodnotu: |01010101|, v dekadicke hodnota: |85|\n",
            "Danny znak: |V| ma v binarce hodnotu: |01010110|, v dekadicke hodnota: |86|\n",
            "Danny znak: |W| ma v binarce hodnotu: |01010111|, v dekadicke hodnota: |87|\n",
            "Danny znak: |X| ma v binarce hodnotu: |01011000|, v dekadicke hodnota: |88|\n",
            "Danny znak: |Y| ma v binarce hodnotu: |01011001|, v dekadicke hodnota: |89|\n",
            "Danny znak: |Z| ma v binarce hodnotu: |01011010|, v dekadicke hodnota: |90|\n",
            "Danny znak: |0| ma v binarce hodnotu: |0110000|, v dekadicke hodnota: |48|\n",
            "Danny znak: |1| ma v binarce hodnotu: |0110001|, v dekadicke hodnota: |49|\n",
            "Danny znak: |2| ma v binarce hodnotu: |0110010|, v dekadicke hodnota: |50|\n",
            "Danny znak: |3| ma v binarce hodnotu: |0110011|, v dekadicke hodnota: |51|\n",
            "Danny znak: |4| ma v binarce hodnotu: |0110100|, v dekadicke hodnota: |52|\n",
            "Danny znak: |5| ma v binarce hodnotu: |0110101|, v dekadicke hodnota: |53|\n",
            "Danny znak: |6| ma v binarce hodnotu: |0110110|, v dekadicke hodnota: |54|\n",
            "Danny znak: |7| ma v binarce hodnotu: |0110111|, v dekadicke hodnota: |55|\n",
            "Danny znak: |8| ma v binarce hodnotu: |0111000|, v dekadicke hodnota: |56|\n",
            "Danny znak: |9| ma v binarce hodnotu: |0111001|, v dekadicke hodnota: |57|\n",
            "Danny znak: |!| ma v binarce hodnotu: |0100001|, v dekadicke hodnota: |33|\n",
            "Danny znak: |\"| ma v binarce hodnotu: |0100010|, v dekadicke hodnota: |34|\n",
            "Danny znak: |#| ma v binarce hodnotu: |0100011|, v dekadicke hodnota: |35|\n",
            "Danny znak: |$| ma v binarce hodnotu: |0100100|, v dekadicke hodnota: |36|\n",
            "Danny znak: |%| ma v binarce hodnotu: |0100101|, v dekadicke hodnota: |37|\n",
            "Danny znak: |&| ma v binarce hodnotu: |0100110|, v dekadicke hodnota: |38|\n",
            "Danny znak: |'| ma v binarce hodnotu: |0100111|, v dekadicke hodnota: |39|\n",
            "Danny znak: |(| ma v binarce hodnotu: |0101000|, v dekadicke hodnota: |40|\n",
            "Danny znak: |)| ma v binarce hodnotu: |0101001|, v dekadicke hodnota: |41|\n",
            "Danny znak: |*| ma v binarce hodnotu: |0101010|, v dekadicke hodnota: |42|\n",
            "Danny znak: |+| ma v binarce hodnotu: |0101011|, v dekadicke hodnota: |43|\n",
            "Danny znak: |,| ma v binarce hodnotu: |0101100|, v dekadicke hodnota: |44|\n",
            "Danny znak: |-| ma v binarce hodnotu: |0101101|, v dekadicke hodnota: |45|\n",
            "Danny znak: |.| ma v binarce hodnotu: |0101110|, v dekadicke hodnota: |46|\n",
            "Danny znak: |/| ma v binarce hodnotu: |0101111|, v dekadicke hodnota: |47|\n",
            "Danny znak: |:| ma v binarce hodnotu: |0111010|, v dekadicke hodnota: |58|\n",
            "Danny znak: |;| ma v binarce hodnotu: |0111011|, v dekadicke hodnota: |59|\n",
            "Danny znak: |<| ma v binarce hodnotu: |0111100|, v dekadicke hodnota: |60|\n",
            "Danny znak: |=| ma v binarce hodnotu: |0111101|, v dekadicke hodnota: |61|\n",
            "Danny znak: |>| ma v binarce hodnotu: |0111110|, v dekadicke hodnota: |62|\n",
            "Danny znak: |?| ma v binarce hodnotu: |0111111|, v dekadicke hodnota: |63|\n",
            "Danny znak: |@| ma v binarce hodnotu: |01000000|, v dekadicke hodnota: |64|\n",
            "Danny znak: |[| ma v binarce hodnotu: |01011011|, v dekadicke hodnota: |91|\n",
            "Danny znak: |\\| ma v binarce hodnotu: |01011100|, v dekadicke hodnota: |92|\n",
            "Danny znak: |]| ma v binarce hodnotu: |01011101|, v dekadicke hodnota: |93|\n",
            "Danny znak: |^| ma v binarce hodnotu: |01011110|, v dekadicke hodnota: |94|\n",
            "Danny znak: |_| ma v binarce hodnotu: |01011111|, v dekadicke hodnota: |95|\n",
            "Danny znak: |`| ma v binarce hodnotu: |01100000|, v dekadicke hodnota: |96|\n",
            "Danny znak: |{| ma v binarce hodnotu: |01111011|, v dekadicke hodnota: |123|\n",
            "Danny znak: ||| ma v binarce hodnotu: |01111100|, v dekadicke hodnota: |124|\n",
            "Danny znak: |}| ma v binarce hodnotu: |01111101|, v dekadicke hodnota: |125|\n",
            "Danny znak: |~| ma v binarce hodnotu: |01111110|, v dekadicke hodnota: |126|\n",
            "Danny znak: | | ma v binarce hodnotu: |0100000|, v dekadicke hodnota: |32|\n",
            "Danny znak: |\t| ma v binarce hodnotu: |01001|, v dekadicke hodnota: |9|\n",
            "Danny znak: |\n",
            "| ma v binarce hodnotu: |01010|, v dekadicke hodnota: |10|\n",
            "Danny znak: |\r| ma v binarce hodnotu: |01101|, v dekadicke hodnota: |13|\n",
            "Danny znak: |\u000b| ma v binarce hodnotu: |01011|, v dekadicke hodnota: |11|\n",
            "Danny znak: |\f| ma v binarce hodnotu: |01100|, v dekadicke hodnota: |12|\n"
          ]
        }
      ]
    },
    {
      "cell_type": "code",
      "metadata": {
        "id": "9eFYNUSpm23d"
      },
      "source": [
        "with open('Ascii_tabulka.csv', 'w', ) as file: #jemno souboru + .csv, mode = [\"r\",\"w\",\"a\"]\n",
        "    writer = csv.writer(file)\n",
        "    writer.writerows(tabulka)"
      ],
      "execution_count": 38,
      "outputs": []
    },
    {
      "cell_type": "code",
      "metadata": {
        "colab": {
          "base_uri": "https://localhost:8080/"
        },
        "id": "v19ugfO7m23f",
        "outputId": "2837cb79-50bf-4984-a0f9-b75815248929"
      },
      "source": [
        "import csv\n",
        "with open('Ascii_tabulka.csv', 'r') as file:\n",
        "    reader = csv.reader(file, delimiter = ',')\n",
        "    for row in reader:\n",
        "        print(row)"
      ],
      "execution_count": 41,
      "outputs": [
        {
          "output_type": "stream",
          "name": "stdout",
          "text": [
            "['Znak', 'dekadicka_podoba', 'binarka']\n",
            "['a', '97', '01100001']\n",
            "['b', '98', '01100010']\n",
            "['c', '99', '01100011']\n",
            "['d', '100', '01100100']\n",
            "['e', '101', '01100101']\n",
            "['f', '102', '01100110']\n",
            "['g', '103', '01100111']\n",
            "['h', '104', '01101000']\n",
            "['i', '105', '01101001']\n",
            "['j', '106', '01101010']\n",
            "['k', '107', '01101011']\n",
            "['l', '108', '01101100']\n",
            "['m', '109', '01101101']\n",
            "['n', '110', '01101110']\n",
            "['o', '111', '01101111']\n",
            "['p', '112', '01110000']\n",
            "['q', '113', '01110001']\n",
            "['r', '114', '01110010']\n",
            "['s', '115', '01110011']\n",
            "['t', '116', '01110100']\n",
            "['u', '117', '01110101']\n",
            "['v', '118', '01110110']\n",
            "['w', '119', '01110111']\n",
            "['x', '120', '01111000']\n",
            "['y', '121', '01111001']\n",
            "['z', '122', '01111010']\n",
            "['A', '65', '01000001']\n",
            "['B', '66', '01000010']\n",
            "['C', '67', '01000011']\n",
            "['D', '68', '01000100']\n",
            "['E', '69', '01000101']\n",
            "['F', '70', '01000110']\n",
            "['G', '71', '01000111']\n",
            "['H', '72', '01001000']\n",
            "['I', '73', '01001001']\n",
            "['J', '74', '01001010']\n",
            "['K', '75', '01001011']\n",
            "['L', '76', '01001100']\n",
            "['M', '77', '01001101']\n",
            "['N', '78', '01001110']\n",
            "['O', '79', '01001111']\n",
            "['P', '80', '01010000']\n",
            "['Q', '81', '01010001']\n",
            "['R', '82', '01010010']\n",
            "['S', '83', '01010011']\n",
            "['T', '84', '01010100']\n",
            "['U', '85', '01010101']\n",
            "['V', '86', '01010110']\n",
            "['W', '87', '01010111']\n",
            "['X', '88', '01011000']\n",
            "['Y', '89', '01011001']\n",
            "['Z', '90', '01011010']\n",
            "['0', '48', '0110000']\n",
            "['1', '49', '0110001']\n",
            "['2', '50', '0110010']\n",
            "['3', '51', '0110011']\n",
            "['4', '52', '0110100']\n",
            "['5', '53', '0110101']\n",
            "['6', '54', '0110110']\n",
            "['7', '55', '0110111']\n",
            "['8', '56', '0111000']\n",
            "['9', '57', '0111001']\n",
            "['!', '33', '0100001']\n",
            "['\"', '34', '0100010']\n",
            "['#', '35', '0100011']\n",
            "['$', '36', '0100100']\n",
            "['%', '37', '0100101']\n",
            "['&', '38', '0100110']\n",
            "[\"'\", '39', '0100111']\n",
            "['(', '40', '0101000']\n",
            "[')', '41', '0101001']\n",
            "['*', '42', '0101010']\n",
            "['+', '43', '0101011']\n",
            "[',', '44', '0101100']\n",
            "['-', '45', '0101101']\n",
            "['.', '46', '0101110']\n",
            "['/', '47', '0101111']\n",
            "[':', '58', '0111010']\n",
            "[';', '59', '0111011']\n",
            "['<', '60', '0111100']\n",
            "['=', '61', '0111101']\n",
            "['>', '62', '0111110']\n",
            "['?', '63', '0111111']\n",
            "['@', '64', '01000000']\n",
            "['[', '91', '01011011']\n",
            "['\\\\', '92', '01011100']\n",
            "[']', '93', '01011101']\n",
            "['^', '94', '01011110']\n",
            "['_', '95', '01011111']\n",
            "['`', '96', '01100000']\n",
            "['{', '123', '01111011']\n",
            "['|', '124', '01111100']\n",
            "['}', '125', '01111101']\n",
            "['~', '126', '01111110']\n",
            "[' ', '32', '0100000']\n",
            "['\\t', '9', '01001']\n",
            "['\\n', '10', '01010']\n",
            "['\\n', '13', '01101']\n",
            "['\\x0b', '11', '01011']\n",
            "['\\x0c', '12', '01100']\n"
          ]
        }
      ]
    },
    {
      "cell_type": "code",
      "metadata": {
        "id": "jey_VUn2rdQw"
      },
      "source": [
        ""
      ],
      "execution_count": null,
      "outputs": []
    }
  ]
}